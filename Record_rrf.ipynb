{
 "cells": [
  {
   "cell_type": "code",
   "execution_count": 7,
   "metadata": {},
   "outputs": [
    {
     "name": "stdout",
     "output_type": "stream",
     "text": [
      "Number of cameras connected:  1\n",
      "FrameRate:  45 CurrentUseCase:  MODE_5_45FPS_500\n",
      "Capturing with the camera running at 45 frames per second\n",
      "This is expected to take around 22.22222222222222 seconds\n",
      "Stopped after capturing 1000 frames\n"
     ]
    }
   ],
   "source": [
    "\"\"\"This sample shows how to shows how to record data to an .rrf file.\n",
    "\n",
    "This sample uses Royale's feature of stopping after a given number of\n",
    "frames are captured, therefore the --frames argument is required.\n",
    "\"\"\"\n",
    "\n",
    "import argparse\n",
    "import queue\n",
    "import roypy\n",
    "from sample_camera_info import print_camera_info\n",
    "from roypy_sample_utils import CameraOpener, add_camera_opener_options\n",
    "#from roypy_platform_utils import PlatformHelper\n",
    "\n",
    "class MyListener (roypy.IRecordStopListener):\n",
    "    \"\"\"A simple listener, in which waitForStop() blocks until onRecordingStopped has been called.\"\"\"\n",
    "    def __init__ (self):\n",
    "        super (MyListener, self).__init__()\n",
    "        self.queue = queue.Queue()\n",
    "\n",
    "    def onRecordingStopped (self, frameCount):\n",
    "        self.queue.put (frameCount)\n",
    "\n",
    "    def waitForStop (self):\n",
    "        frameCount = self.queue.get()\n",
    "        print (\"Stopped after capturing {frameCount} frames\".format (frameCount=frameCount))\n",
    "\n",
    "def main ():\n",
    "    #platformhelper = PlatformHelper()\n",
    "    parser = argparse.ArgumentParser (usage = __doc__)\n",
    "    add_camera_opener_options (parser)\n",
    "    parser.add_argument (\"--frames\", type=int, required=True, help=\"duration to capture data (number of frames)\")\n",
    "    parser.add_argument (\"--output\", type=str, required=True, help=\"filename to record to\")\n",
    "    parser.add_argument (\"--skipFrames\", type=int, default=0, help=\"frameSkip argument for the API method\")\n",
    "    parser.add_argument (\"--skipMilliseconds\", type=int, default=0, help=\"msSkip argument for the API method\")\n",
    "    #options = parser.parse_args()\n",
    "    options = parser.parse_args(args=['--frames', '200', '--output', '56.rrf'])#,'--skipMilliseconds','1000'\n",
    "\n",
    "    opener = CameraOpener (options)\n",
    "    cam = opener.open_camera ()\n",
    "    cam.setUseCase('MODE_5_45FPS_500')\n",
    "    print(\"FrameRate: \" ,cam.getFrameRate() ,\"CurrentUseCase: \" , cam.getCurrentUseCase())\n",
    "\n",
    "#     print_camera_info (cam)\n",
    "\n",
    "    l = MyListener()\n",
    "    cam.registerRecordListener(l)\n",
    "    cam.startCapture()\n",
    "    cam.startRecording (options.output, options.frames, options.skipFrames, options.skipMilliseconds);\n",
    "\n",
    "    seconds = options.frames * (options.skipFrames + 1) / cam.getFrameRate()\n",
    "    if options.skipMilliseconds:\n",
    "        timeForSkipping = options.frames * options.skipMilliseconds / 1000\n",
    "        seconds = int (max (seconds, timeForSkipping))\n",
    "\n",
    "    print (\"Capturing with the camera running at {rate} frames per second\".format (rate=cam.getFrameRate()))\n",
    "    print (\"This is expected to take around {seconds} seconds\".format (seconds=seconds))\n",
    "    \n",
    "    l.waitForStop()\n",
    "\n",
    "    cam.stopCapture()\n",
    "\n",
    "if (__name__ == \"__main__\"):\n",
    "    main()\n"
   ]
  },
  {
   "cell_type": "code",
   "execution_count": null,
   "metadata": {},
   "outputs": [],
   "source": []
  }
 ],
 "metadata": {
  "kernelspec": {
   "display_name": "Python 3",
   "language": "python",
   "name": "python3"
  },
  "language_info": {
   "codemirror_mode": {
    "name": "ipython",
    "version": 3
   },
   "file_extension": ".py",
   "mimetype": "text/x-python",
   "name": "python",
   "nbconvert_exporter": "python",
   "pygments_lexer": "ipython3",
   "version": "3.6.8"
  }
 },
 "nbformat": 4,
 "nbformat_minor": 2
}
