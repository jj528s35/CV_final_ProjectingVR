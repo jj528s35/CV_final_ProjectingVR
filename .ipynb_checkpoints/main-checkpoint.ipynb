{
 "cells": [
  {
   "cell_type": "code",
   "execution_count": 61,
   "metadata": {},
   "outputs": [],
   "source": [
    "import cv2\n",
    "import numpy as np\n",
    "import roypy\n",
    "import matplotlib.pyplot as plt\n",
    "import argparse\n",
    "import time\n",
    "import queue\n",
    "import math\n",
    "import random\n",
    "import matplotlib\n",
    "\n",
    "import tracking\n",
    "import touched_detection\n",
    "from PIL import Image, ImageDraw\n",
    "from sample_camera_info import print_camera_info\n",
    "from roypy_sample_utils import CameraOpener, add_camera_opener_options\n",
    "\n",
    "# 調整np.array輸出格式\n",
    "np.set_printoptions(suppress=True)"
   ]
  },
  {
   "cell_type": "markdown",
   "metadata": {},
   "source": [
    "# Image Streamer"
   ]
  },
  {
   "cell_type": "code",
   "execution_count": 62,
   "metadata": {},
   "outputs": [],
   "source": [
    "class MyListener(roypy.IDepthDataListener):\n",
    "\n",
    "    def __init__(self, z_queue, gray_queue, points3D_queue, ConfidenceIndex_queue, Confidence_queue, undistortImage=False):\n",
    "        super(MyListener, self).__init__()\n",
    "        self.z_queue = z_queue\n",
    "        self.gray_queue = gray_queue\n",
    "        self.points3D_queue = points3D_queue\n",
    "        self.ConfidenceIndex_queue = ConfidenceIndex_queue\n",
    "        self.Confidence_queue = Confidence_queue\n",
    "        self.undistortImage = undistortImage\n",
    "        self.cameraMatrix = None\n",
    "        self.distortionCoefficients = None\n",
    "\n",
    "    def onNewData(self, data):\n",
    "        zvalues = []\n",
    "        xvalues = []\n",
    "        yvalues = []\n",
    "        grayvalues = []\n",
    "        points3D = []\n",
    "        ConfidenceIndexvalues = [] # whether the pixel measured a valid 3D value\n",
    "        Confidencevalue = []\n",
    "        for i in range(data.getNumPoints()):\n",
    "            zvalues.append(data.getZ(i))\n",
    "            xvalues.append(data.getX(i))\n",
    "            yvalues.append(data.getY(i))\n",
    "            grayvalues.append(data.getGrayValue(i))\n",
    "            \n",
    "            Confidencevalue.append(data.getDepthConfidence(i))\n",
    "            if data.getDepthConfidence(i) > 0:\n",
    "                ConfidenceIndexvalues.append(i)\n",
    "            \n",
    "        zarray = np.asarray(zvalues)\n",
    "        z = zarray.reshape (-1, data.width)        \n",
    "        self.z_queue.put(z)\n",
    "        \n",
    "        xarray = np.asarray(xvalues)\n",
    "        x = xarray.reshape (-1, data.width)\n",
    "        \n",
    "        yarray = np.asarray(yvalues)\n",
    "        y = yarray.reshape (-1, data.width)\n",
    "        \n",
    "        points3D = np.dstack((x,y,z))\n",
    "        self.points3D_queue.put(points3D)\n",
    "        \n",
    "        \n",
    "        grayarray = np.asarray(grayvalues)\n",
    "        q = grayarray.reshape (-1, data.width)        \n",
    "        self.gray_queue.put(q)\n",
    "        \n",
    "        Confidencearray = np.asarray(Confidencevalue)\n",
    "        Confidence = Confidencearray.reshape (-1, data.width)\n",
    "        self.Confidence_queue.put(Confidence)\n",
    "        #ConfidenceIndex_queue\n",
    "        ConfidenceIndex = np.asarray(ConfidenceIndexvalues)\n",
    "        self.ConfidenceIndex_queue.put(ConfidenceIndex)\n",
    "\n",
    "    def paint(self, data, name, isGray = False, cv2_show = False):\n",
    "        \"\"\"\n",
    "        Called in the main thread, with data containing one of the items that was added to the queue in onNewData\n",
    "        :param data:\n",
    "        :return:\n",
    "        \"\"\"\n",
    "        if cv2_show == True: \n",
    "            cv2.imshow(name, data)\n",
    "        else:\n",
    "            # create a figure and show the raw data\n",
    "            plt.figure(1)\n",
    "            if isGray == False:\n",
    "                plt.imshow(data),plt.title(name),plt.axis('off')\n",
    "            else: \n",
    "                plt.imshow(data,plt.cm.gray),plt.title(name),plt.axis('off')\n",
    "\n",
    "            plt.show(block=False)\n",
    "            plt.draw()\n",
    "\n",
    "            # this pause is needed to ensure the drawing for some backends\n",
    "            plt.pause(0.001)"
   ]
  },
  {
   "cell_type": "markdown",
   "metadata": {},
   "source": [
    "# Tracker Engine"
   ]
  },
  {
   "cell_type": "code",
   "execution_count": 63,
   "metadata": {},
   "outputs": [],
   "source": [
    "def process_event(z_queue, gray_queue, points3D_queue, ConfidenceIndex_queue, Confidence_queue, painter=None, seconds=150):\n",
    "    First = True\n",
    "    timeout = .5\n",
    "    wait_data_flag = False\n",
    "    capture_frame = 5\n",
    "    frame = 0\n",
    "    t_end = time.time() + seconds # create a loop that will rsecondsthe given amount of time\n",
    "    start_time = time.time()\n",
    "    receive_time = 1\n",
    "    while time.time() < t_end:\n",
    "        # Press Q on keyboard to exit \n",
    "        if cv2.waitKey(25) & 0xFF == ord('q'):\n",
    "            break\n",
    "        try:\n",
    "            # try to retrieve an item from the queue\n",
    "            # this will block until an item can be retrieved\n",
    "            # or the timeout of 1 second is hit\n",
    "            zImage = z_queue.get(wait_data_flag, timeout) if z_queue else None\n",
    "            grayImage_int32 = gray_queue.get(wait_data_flag, timeout) if gray_queue else None\n",
    "            points3D = points3D_queue.get(wait_data_flag, timeout) if points3D_queue else None\n",
    "            ConfidenceIndex = ConfidenceIndex_queue.get(wait_data_flag, timeout) if ConfidenceIndex_queue else None\n",
    "            Confidence = Confidence_queue.get(wait_data_flag, timeout) if Confidence_queue else None\n",
    "        except queue.Empty:\n",
    "            # this will be thrown when the timeout is hit\n",
    "            continue\n",
    "        else:\n",
    "            frame = frame + 1\n",
    "            if (frame > capture_frame):\n",
    "                # estimated time\n",
    "                receive_time = (time.time() - start_time)\n",
    "                frame = 0\n",
    "                start_time = time.time()\n",
    "            if(receive_time != 0):\n",
    "                size = zImage.shape\n",
    "                cv2.putText(img=zImage, text=('fps=%.1f'%(5/receive_time)), org=(0, size[1]-75), fontFace=cv2.FONT_HERSHEY_SIMPLEX, fontScale=0.25, color=(255,255,255))\n",
    "            cv2.imshow('zImage', zImage)\n",
    "            \n",
    "            if First == True:\n",
    "                #RANSAM to get surface plane\n",
    "                surface_plane, depthImg, plane_mask = RANSAM(points3D, ConfidenceIndex, ransac_iteration = 500, inliner_threshold = 0.01)\n",
    "                First = False\n",
    "                print(\"firstly RANSAM\")\n",
    "            else:\n",
    "                #\n",
    "                start_time = time.time()\n",
    "                s_time = time.time()\n",
    "                depthImg = get_depth_map(points3D, surface_plane)\n",
    "#                 print('depth: %.4f'%(time.time() - s_time))\n",
    "                \n",
    "                #Canny edge map(infrared image) + threshold based edge map(depth image)\n",
    "                s_time = time.time()\n",
    "                Cannyedges, Threshold_based_edge, Edge_map, grayImage = get_edge_map(grayImage_int32, depthImg)\n",
    "#                 print('get edge map: %.4f s'%(time.time() - s_time))\n",
    "                \n",
    "                #Get hight region by Hight and record its position\n",
    "                s_time = time.time()\n",
    "                High_region_Image, high_region_list = get_high_region(depthImg)\n",
    "#                 print('get hight region: %.4f s'%(time.time() - s_time))\n",
    "                \n",
    "                #Get Hand mask by Flood fill from high region position with Edge map\n",
    "                s_time = time.time()\n",
    "                Hand_mask_Image = get_Hand_mask(Edge_map, high_region_list, High_region_Image)\n",
    "#                 print('get hand mask: %.4f s'%(time.time() - s_time))\n",
    "                \n",
    "                #\n",
    "                s_time = time.time()\n",
    "                cnt, contours_image, hand_center, fingertips = find_fingertip(Hand_mask_Image,True)\n",
    "#                 print('find fingertip: %.4f s'%(time.time() - s_time))\n",
    "                \n",
    "                # tracking user hand and fingertips\n",
    "                s_time = time.time()\n",
    "                hands_hand, fingertips_pos, tracking_iamge = tracking.hand_tracking(hand_center, fingertips, points3D, contours_image)\n",
    "#                 print('hand tracking: %.4f s'%(time.time() - s_time))\n",
    "                \n",
    "                # detecte fingers whenther touching the surface\n",
    "                s_time = time.time()\n",
    "                touched_flag, touching_detection_image = touched_detection.touching_detection(fingertips_pos, Hand_mask_Image, depthImg, contours_image)\n",
    "#                 print('touched detection: %.4f s'%(time.time() - s_time))\n",
    "                \n",
    "                print('total time: %.4f s'%(time.time() - start_time))\n",
    "                \n",
    "                #Show original image and result image\n",
    "#                 painter.paint(grayImage_int32,'Gray Image',True)\n",
    "#                 painter.paint(depthImg,'Depth')\n",
    "#                 painter.paint(Cannyedges,'Canny Edges',True)\n",
    "#                 painter.paint(Threshold_based_edge,'Threshold_based Edge',True)\n",
    "#                 painter.paint(Edge_map,'Edge map',True)\n",
    "#                 painter.paint(High_region_Image,'High region Image',True)\n",
    "#                 painter.paint(Hand_mask_Image,'Hand mask Image')\n",
    "#                 painter.paint(contours_image,'Contours Image',True)\n",
    "                painter.paint(tracking_iamge,'tracking Image',False, True)\n",
    "                painter.paint(touching_detection_image,'touched Image', False, True)\n",
    "                painter.paint(touching_detection_image,'touched Image', False)\n",
    "            \n",
    "#             #Store Image\n",
    "#             IsStore = False\n",
    "#             if IsStore == True:\n",
    "#                 matplotlib.image.imsave('zImage.png', zImage)\n",
    "#                 matplotlib.image.imsave('grayImage_int32.png', grayImage_int32)\n",
    "#                 matplotlib.image.imsave('points3D.png', points3D)\n",
    "#                 matplotlib.image.imsave('Confidence.png', Confidence)\n",
    "\n",
    "            "
   ]
  },
  {
   "cell_type": "markdown",
   "metadata": {},
   "source": [
    "## RANSAM"
   ]
  },
  {
   "cell_type": "code",
   "execution_count": 64,
   "metadata": {},
   "outputs": [],
   "source": [
    "def Dis_pt2plane(pts, a, b, c, d):\n",
    "    \"\"\"\n",
    "    Compute the distance from points to the plane\n",
    "    \"\"\"\n",
    "    normal = math.sqrt(a*a+b*b+c*c)\n",
    "    if normal == 0:\n",
    "        normal = 1\n",
    "    \n",
    "    v = np.array([a,b,c])\n",
    "    dis = abs(np.dot(pts,v.T)+d)/normal\n",
    "    return dis\n",
    "\n",
    "def get_Plane(sampts):\n",
    "    \"\"\"\n",
    "    Compute the equation of the plane\n",
    "    \"\"\"\n",
    "    p1 = sampts[0]\n",
    "    p2 = sampts[1]\n",
    "    p3 = sampts[2]\n",
    "    \n",
    "    a = ( (p2[1]-p1[1])*(p3[2]-p1[2])-(p2[2]-p1[2])*(p3[1]-p1[1]) )\n",
    "    b = ( (p2[2]-p1[2])*(p3[0]-p1[0])-(p2[0]-p1[0])*(p3[2]-p1[2]) )\n",
    "    c = ( (p2[0]-p1[0])*(p3[1]-p1[1])-(p2[1]-p1[1])*(p3[0]-p1[0]) )\n",
    "    d = ( 0-(a*p1[0]+b*p1[1]+c*p1[2]) )\n",
    "    \n",
    "    return a,b,c,d\n",
    "\n",
    "def Random3points(points3D, ConfidenceIndex):\n",
    "    \"\"\"\n",
    "    Random choose 3 Confidence points\n",
    "    \"\"\"\n",
    "    sample_number = 3\n",
    "    sample_point_index = random.sample(range(ConfidenceIndex.shape[0]), sample_number)\n",
    "    sample_points = np.zeros((sample_number,3))\n",
    "    for i in range(sample_number):\n",
    "        Confidence_point_index = sample_point_index[i]\n",
    "        index = ConfidenceIndex[Confidence_point_index]\n",
    "        y = index // points3D.shape[1]\n",
    "        x = index % points3D.shape[1]\n",
    "        sample_points[i] = points3D[y][x]\n",
    "    return sample_points\n",
    "\n",
    "# def Random3points(points3D):\n",
    "#     sample_number = 3\n",
    "#     sample_point_index = random.sample(range(points3D.shape[0]*points3D.shape[1]), sample_number)\n",
    "#     sample_points = np.zeros((sample_number,3))\n",
    "#     for i in range(sample_number):\n",
    "#         index = sample_point_index[i]\n",
    "#         y = index // points3D.shape[1]\n",
    "#         x = index % points3D.shape[1]\n",
    "#         sample_points[i] = points3D[y][x]\n",
    "#     return sample_points\n",
    "\n",
    "def get_inliner_num(points3D,a,b,c,d,inliner_threshold):\n",
    "    \"\"\"\n",
    "    Compute the liner points which distance to plane < threshold\n",
    "    Also get distance from points to the plane (new Depth Image which re-project depth pixels in surface plane)\n",
    "    \"\"\"\n",
    "    inliner_num = 0\n",
    "    \n",
    "    dist = Dis_pt2plane(points3D,a,b,c,d)\n",
    "    inliner_mask = dist < inliner_threshold\n",
    "    inliner_num = np.sum(inliner_mask)\n",
    "    return inliner_num, inliner_mask, dist\n",
    "\n",
    "def RANSAM(points3D, ConfidenceIndex, ransac_iteration = 1000, inliner_threshold = 0.01):\n",
    "    best_inlinernum = -1\n",
    "    best_inlinernum = 0\n",
    "    best_plane = np.zeros((1,4))\n",
    "    best_depthImage = np.zeros((points3D.shape[0],points3D.shape[1]))\n",
    "    best_plane_mask = np.zeros((points3D.shape[0],points3D.shape[1]))\n",
    "#     best_sampts = np.zeros((3,3))\n",
    "    \n",
    "#     print(points3D.shape,points3D[80:90,110])\n",
    "    for i in range(ransac_iteration):\n",
    "        sampts = Random3points(points3D, ConfidenceIndex)\n",
    "        a,b,c,d = get_Plane(sampts)\n",
    "        \n",
    "        inliner_num, inliner_mask, depthImage = get_inliner_num(points3D,a,b,c,d,inliner_threshold)\n",
    "        if(inliner_num > best_inlinernum):\n",
    "            best_inlinernum = inliner_num\n",
    "            best_plane = np.array([a,b,c,d])\n",
    "            best_plane_mask = inliner_mask\n",
    "            best_depthImage = depthImage\n",
    "#             best_sampts = sampts\n",
    "            \n",
    "    print(\"Inliner Number\\n\", best_inlinernum)\n",
    "    print(\"Inliner plane\\n\", best_plane)\n",
    "    return best_plane, best_depthImage, best_plane_mask\n",
    "\n",
    "# ptset = np.array(([0, 0, 0],\n",
    "#             [1, 2, 0],\n",
    "#             [2, 2, 0]))\n",
    "# a,b,c,d = get_Plane(ptset)\n",
    "# pts = np.zeros((2,2,3))\n",
    "# pts[0,0] = np.array([0, 0, 1])\n",
    "# pts[0,1] = np.array([0, 0, 2])\n",
    "# pts[1,0] = np.array([0, 0, 3])\n",
    "# pts[1,1] = np.array([0, 0, 4])\n",
    "# z = Dis_pt2plane(pts,a,b,c,d)\n",
    "# print(z,z.shape)\n",
    "# get_inliner_num(pts,a,b,c,d,7)"
   ]
  },
  {
   "cell_type": "markdown",
   "metadata": {},
   "source": [
    "## Depth Map"
   ]
  },
  {
   "cell_type": "code",
   "execution_count": 65,
   "metadata": {},
   "outputs": [],
   "source": [
    "def get_depth_map(points3D,plane):\n",
    "    \"\"\"\n",
    "    Compute the liner points which distance to plane < threshold\n",
    "    Also get distance from points to the plane (new Depth Image which re-project depth pixels in surface plane)\n",
    "    \"\"\"\n",
    "    dist = Dis_pt2plane(points3D,plane[0],plane[1],plane[2],plane[3])\n",
    "    return dist"
   ]
  },
  {
   "cell_type": "markdown",
   "metadata": {},
   "source": [
    "# Edge map"
   ]
  },
  {
   "cell_type": "code",
   "execution_count": 66,
   "metadata": {},
   "outputs": [],
   "source": [
    "def get_edge_map(grayImage,depthImage):\n",
    "    \"\"\"\n",
    "    Canny Edge map\n",
    "    turn grayImg from int32 to int8\n",
    "    blur the grayImg then do Canny Edge\n",
    "    \"\"\"\n",
    "    low_threshold = 1\n",
    "    high_threshold = 8\n",
    "    grayimg_int8 = cv2.convertScaleAbs(grayImage, alpha=(255.0/65535.0))\n",
    "    \n",
    "    kernel_size = 3\n",
    "    blur_gray = cv2.GaussianBlur(grayimg_int8,(kernel_size, kernel_size), 0)\n",
    "    Cannyedges = cv2.Canny(blur_gray, low_threshold, high_threshold)\n",
    "    \n",
    "    \"\"\"\n",
    "    Threshold based Edge map\n",
    "    if depth between the pixel and its nearby pixels > near_depth_threshold, then labeled it\n",
    "    \"\"\"\n",
    "    s_time = time.time()\n",
    "    near_depth_threshold = 0.05\n",
    "    Threshold_based_edge = np.zeros((depthImage.shape[0],depthImage.shape[1]))\n",
    "    \n",
    "    h = depthImage.shape[0]\n",
    "    w = depthImage.shape[1]\n",
    "    depth_img_transform = np.zeros((h+1,w+1))\n",
    "    depth_img_transform[:h,:w] = depthImage\n",
    "    #check left up depth threshold\n",
    "    depth_img_transform[1:h+1,1:w+1] = depthImage\n",
    "    check_depth_threshold = abs(depthImage - depth_img_transform[:h,:w]) > near_depth_threshold\n",
    "    Threshold_based_edge = np.logical_or(Threshold_based_edge, check_depth_threshold)\n",
    "    #check up depth threshold\n",
    "    depth_img_transform[:h,:w] = depthImage\n",
    "    depth_img_transform[1:h+1,:w] = depthImage\n",
    "    check_depth_threshold = abs(depthImage - depth_img_transform[:depthImage.shape[0],:depthImage.shape[1]]) > near_depth_threshold\n",
    "    Threshold_based_edge = np.logical_or(Threshold_based_edge, check_depth_threshold)\n",
    "    #check Right up depth threshold\n",
    "    depth_img_transform[:h,:w] = depthImage\n",
    "    depth_img_transform[1:h+1,:w-1] = depthImage[:,1:w]\n",
    "    check_depth_threshold = abs(depthImage - depth_img_transform[:h,:w]) > near_depth_threshold\n",
    "    Threshold_based_edge = np.logical_or(Threshold_based_edge, check_depth_threshold)\n",
    "    #check Left depth threshold\n",
    "    depth_img_transform[:h,:w] = depthImage\n",
    "    depth_img_transform[:h,1:w+1] = depthImage\n",
    "    check_depth_threshold = abs(depthImage - depth_img_transform[:h,:w]) > near_depth_threshold\n",
    "    Threshold_based_edge = np.logical_or(Threshold_based_edge, check_depth_threshold)\n",
    "    #check Right depth threshold\n",
    "    depth_img_transform[:h,:w] = depthImage\n",
    "    depth_img_transform[:h,:w-1] = depthImage[:,1:w]\n",
    "    check_depth_threshold = abs(depthImage - depth_img_transform[:h,:w]) > near_depth_threshold\n",
    "    Threshold_based_edge = np.logical_or(Threshold_based_edge, check_depth_threshold)\n",
    "    #check Left down depth threshold\n",
    "    depth_img_transform[:h,:w] = depthImage\n",
    "    depth_img_transform[:h-1,1:w+1] = depthImage[1:h,:]\n",
    "    check_depth_threshold = abs(depthImage - depth_img_transform[:h,:w]) > near_depth_threshold\n",
    "    Threshold_based_edge = np.logical_or(Threshold_based_edge, check_depth_threshold)\n",
    "    #check down depth threshold\n",
    "    depth_img_transform[:h,:w] = depthImage\n",
    "    depth_img_transform[:h-1,:w] = depthImage[1:h,:]\n",
    "    check_depth_threshold = abs(depthImage - depth_img_transform[:h,:w]) > near_depth_threshold\n",
    "    Threshold_based_edge = np.logical_or(Threshold_based_edge, check_depth_threshold)\n",
    "    #check Right down depth threshold\n",
    "    depth_img_transform[:h,:w] = depthImage\n",
    "    depth_img_transform[:h-1,:w-1] = depthImage[1:h,1:w]\n",
    "    check_depth_threshold = abs(depthImage - depth_img_transform[:h,:w]) > near_depth_threshold\n",
    "    Threshold_based_edge = np.logical_or(Threshold_based_edge, check_depth_threshold)\n",
    "    \n",
    "    \n",
    "    print('*get threshold edge: %.4f s'%(time.time()-s_time))\n",
    "    \"\"\"\n",
    "    Merge Canny Edge map and Threshold based Edge map\n",
    "    \"\"\"\n",
    "    Edge_map = np.logical_or(Cannyedges,Threshold_based_edge)\n",
    "    \n",
    "    return Cannyedges,Threshold_based_edge, Edge_map, blur_gray"
   ]
  },
  {
   "cell_type": "markdown",
   "metadata": {},
   "source": [
    "# Find High Region"
   ]
  },
  {
   "cell_type": "code",
   "execution_count": 67,
   "metadata": {},
   "outputs": [],
   "source": [
    "def get_high_region(depthImage):\n",
    "    \"\"\"\n",
    "    Define plane edge\n",
    "    High region : > 0.04 \n",
    "    ==> Flood fill mask : if pixels value > 0.04, then its value of mask image = 0 \n",
    "    ==> mask = depthImage < 0.04\n",
    "    \n",
    "    Next, reject the region which dose not connet with plane edge and record its position\n",
    "    ==>Just do Flood fill around the plane edge\n",
    "    \"\"\"\n",
    "    h, w = depthImage.shape[:2]\n",
    "    high_region_mask = np.ones((h+2,w+2), np.uint8)\n",
    "    high_region_mask[1:h+1,1:w+1] = depthImage < 0.04 # > 0.04 False == 0, Flood fill will fill pixels with 0\n",
    "    resultImg = np.zeros((h,w), np.uint8)\n",
    "    \n",
    "    #define plane edge\n",
    "    plane_edge = 25\n",
    "    \n",
    "    x1 = plane_edge\n",
    "    x2 = w - plane_edge\n",
    "    y1 = plane_edge\n",
    "    y2 = h - plane_edge\n",
    "    \n",
    "    high_list = []\n",
    "    \n",
    "    for y in range(plane_edge, y2):\n",
    "        if high_region_mask[y+1,x1+1] == 0 and resultImg[y,x1] != True:\n",
    "            cv2.floodFill(resultImg, high_region_mask, (x1, y),True, cv2.FLOODFILL_MASK_ONLY)\n",
    "            high_list.append((x1,y))\n",
    "            \n",
    "        if high_region_mask[y+1,x2+1] == 0 and resultImg[y,x2] != True:\n",
    "            cv2.floodFill(resultImg, high_region_mask, (x2, y),True, cv2.FLOODFILL_MASK_ONLY)\n",
    "            high_list.append((x2,y))\n",
    "            \n",
    "    for x in range(plane_edge, x2):\n",
    "        if high_region_mask[y1+1,x+1] == 0 and resultImg[y1,x] != True:\n",
    "            cv2.floodFill(resultImg, high_region_mask, (x, y1),True, cv2.FLOODFILL_MASK_ONLY)\n",
    "            high_list.append((x, y1))\n",
    "            \n",
    "        if high_region_mask[y2+1,x+1] == 0 and resultImg[y2,x] != True:\n",
    "            cv2.floodFill(resultImg, high_region_mask, (x, y2),True, cv2.FLOODFILL_MASK_ONLY)\n",
    "            high_list.append((x, y2))\n",
    "    \n",
    "    return resultImg, high_list"
   ]
  },
  {
   "cell_type": "markdown",
   "metadata": {},
   "source": [
    "## Hand Mask"
   ]
  },
  {
   "cell_type": "code",
   "execution_count": 68,
   "metadata": {},
   "outputs": [],
   "source": [
    "def get_Hand_mask(Edge_map, high_list, High_region_Image):\n",
    "    \"\"\"\n",
    "    Flood fill from high region position and stop when reach edge\n",
    "    Only fill in the hight region mask \n",
    "    ==> Prevent flood fill from seed which filled region does not the hight region\n",
    "    \"\"\"\n",
    "    h, w = Edge_map.shape[:2]\n",
    "    \n",
    "    resultImg = Edge_map.copy()\n",
    "    resultImg.dtype = 'uint8'\n",
    "    mask = np.zeros((h+2,w+2), np.uint8)\n",
    "    mask1 = np.ones((h+2,w+2), np.uint8)\n",
    "    mask1[1:h+1,1:w+1] = High_region_Image == False\n",
    "\n",
    "    for i in range(len(high_list)):\n",
    "        cv2.floodFill(resultImg, mask1, high_list[i],True,cv2.FLOODFILL_FIXED_RANGE)\n",
    "    \n",
    "    resultImg = resultImg - Edge_map\n",
    "    \n",
    "    return resultImg"
   ]
  },
  {
   "cell_type": "markdown",
   "metadata": {},
   "source": [
    "## Find Fingertip"
   ]
  },
  {
   "cell_type": "code",
   "execution_count": 69,
   "metadata": {},
   "outputs": [],
   "source": [
    "def find_fingertip(hand_mask, debug = False):\n",
    "    '''\n",
    "        return: \n",
    "        @cnt: contours\n",
    "    '''\n",
    "    fingertips = []\n",
    "    kernel_size = 7\n",
    "    \n",
    "    #Smooth the mask and find the contours\n",
    "    smooth_mask = cv2.GaussianBlur(hand_mask,(kernel_size, kernel_size), 0)\n",
    "    (_, cnts, _) = cv2.findContours(smooth_mask.copy(), cv2.RETR_EXTERNAL, cv2.CHAIN_APPROX_SIMPLE)\n",
    "\n",
    "    #convert the result image into RGB image\n",
    "    contours_image = cv2.convertScaleAbs(smooth_mask, alpha=(255))\n",
    "    contours_image = cv2.cvtColor(contours_image, cv2.COLOR_GRAY2BGR)\n",
    "    \n",
    "    # Find the contour with max area\n",
    "    maxArea = 0\n",
    "    hull = None\n",
    "    for i in range(len(cnts)):\n",
    "        area = cv2.contourArea(cnts[i])\n",
    "        if area > maxArea:\n",
    "            maxArea = area\n",
    "            hull = cv2.convexHull(cnts[i])\n",
    "            Contours = cnts[i]\n",
    "    \n",
    "    cx, cy = (0,0)\n",
    "    if hull is not None : \n",
    "        # get centroid from hand, then Draw the center and Hull_Convex\n",
    "        M = cv2.moments(hull)\n",
    "        cx = int(M[\"m10\"]/M[\"m00\"])\n",
    "        cy = int(M[\"m01\"]/M[\"m00\"])\n",
    "        if(debug == True):\n",
    "            cv2.circle(contours_image, (cx, cy), 5, (0,0,255), 3)\n",
    "        cv2.drawContours(contours_image, [Contours], -1, (255,0,0), 2)\n",
    "        \n",
    "        #Find the Fingertips\n",
    "        fingertips, contours_image = find_fingertips_by_dot(Contours, hull, contours_image,(cx, cy), debug)\n",
    "\n",
    "    return cnts, contours_image, (cx, cy), np.asarray(fingertips, dtype=np.int32)\n",
    "\n",
    "\n",
    "def find_fingertips_by_dot(Contours, hull, contours_image, center, debug=False):\n",
    "    fingertips = []\n",
    "    skip = 2\n",
    "    Convex = (0,0)\n",
    "    post_dot = 20\n",
    "    threshold = 8\n",
    "    Convex_threshold = 2\n",
    "    Dot_threshold = 20\n",
    "    first = True\n",
    "    for i in range(skip, len(Contours)-skip):\n",
    "        p = Contours[i-skip]\n",
    "        q = Contours[i]\n",
    "        r = Contours[i+skip]\n",
    "\n",
    "        dot = np.dot(p-q,(r-q).T)\n",
    "        if (dot < Dot_threshold and dot > -Dot_threshold):\n",
    "            points = (q[0,0],q[0,1])\n",
    "            if first == True:\n",
    "                Convex = points\n",
    "            IsnotEdge = points[0]!=0 and points[1]!=0 and points[0]!=contours_image.shape[1] and points[1]!=contours_image.shape[0]\n",
    "            IsConvex = Points_is_convex(hull, points, Convex_threshold)\n",
    "            Near_Labeled = abs(Convex[0] - points[0]) > threshold and abs(Convex[1] - points[1]) > threshold\n",
    "            #if the point is in the convex list and haven't be labeled, then add it to Fingertip list\n",
    "            if IsConvex and IsnotEdge:\n",
    "                if Near_Labeled or first:\n",
    "                    fingertips.append(points)\n",
    "#                     if first:\n",
    "#                         cv2.circle(contours_image, p, 5 , (0,255,255) , 3)\n",
    "#                         cv2.circle(contours_image, r, 5 , (0,255,255) , 3)\n",
    "                    first = False\n",
    "                elif dot < post_dot:#若在附近，則取曲率較小的點\n",
    "                    fingertips[-1] = points\n",
    "                Convex = points\n",
    "                post_dot = dot\n",
    "                    \n",
    "    if(debug==True):\n",
    "        for i in range(len(fingertips)):\n",
    "            cv2.circle(contours_image, fingertips[i], 5 , (0,255,0) , 3)\n",
    "\n",
    "    return fingertips, contours_image"
   ]
  },
  {
   "cell_type": "markdown",
   "metadata": {},
   "source": [
    "## Cotour Map"
   ]
  },
  {
   "cell_type": "code",
   "execution_count": 70,
   "metadata": {},
   "outputs": [],
   "source": [
    "# def Points_is_convex_all(hull, points, threshold):\n",
    "#     label = False\n",
    "#     label_hull = hull.copy()\n",
    "#     for i in range(len(hull)):\n",
    "#         if abs(hull[i,0,0] - points[0]) <= threshold and abs(hull[i,0,1] - points[1]) <= threshold:\n",
    "#             label_hull[i,0] = (-1, -1)\n",
    "#             label = True\n",
    "#     return label, label_hull\n",
    "\n",
    "def Points_is_convex(hull, points, threshold):\n",
    "    label = False\n",
    "    label_hull = hull.copy()\n",
    "    for i in range(len(hull)):\n",
    "        if abs(hull[i,0,0] - points[0]) <= threshold and abs(hull[i,0,1] - points[1]) <= threshold:\n",
    "            label = True\n",
    "            return label\n",
    "    return label"
   ]
  },
  {
   "cell_type": "code",
   "execution_count": 71,
   "metadata": {},
   "outputs": [],
   "source": [
    "# sample_open_cv()"
   ]
  },
  {
   "cell_type": "code",
   "execution_count": 72,
   "metadata": {},
   "outputs": [],
   "source": [
    "##True: white 1  False: black 0\n",
    "# ptset = np.array(([False, False, False],\n",
    "#             [True, True, False],\n",
    "#             [False, True, False]))\n",
    "# plt.imshow(ptset,plt.cm.gray)"
   ]
  },
  {
   "cell_type": "markdown",
   "metadata": {},
   "source": [
    "# Main"
   ]
  },
  {
   "cell_type": "code",
   "execution_count": 73,
   "metadata": {
    "scrolled": false
   },
   "outputs": [
    {
     "name": "stdout",
     "output_type": "stream",
     "text": [
      "Filename: 456.rrf\n",
      "FrameRate:  0 CurrentUseCase:  MODE_PLAYBACK\n",
      "====================================\n",
      "        Camera information\n",
      "====================================\n",
      "Type:            PICOFLEXX\n",
      "Width:           224\n",
      "Height:          171\n",
      "Operation modes: 1\n",
      "    MODE_PLAYBACK\n",
      "        this operation mode has 556728576 streams\n",
      "CameraInfo items: 0\n",
      "isConnected True\n",
      "getFrameRate 0\n",
      "200\n",
      "Inliner Number\n",
      " 35030\n",
      "Inliner plane\n",
      " [-0.00010432 -0.00017923  0.00480465 -0.00099354]\n",
      "firstly RANSAM\n",
      "*get threshold edge: 0.0060 s\n",
      "total time: 0.0140 s\n"
     ]
    },
    {
     "data": {
      "image/png": "[encoded data removed]",
      "text/plain": [
       "<Figure size 432x288 with 1 Axes>"
      ]
     },
     "metadata": {
      "needs_background": "light"
     },
     "output_type": "display_data"
    },
    {
     "data": {
      "text/plain": [
       "<Figure size 432x288 with 0 Axes>"
      ]
     },
     "metadata": {},
     "output_type": "display_data"
    },
    {
     "name": "stdout",
     "output_type": "stream",
     "text": [
      "*get threshold edge: 0.0010 s\n",
      "total time: 0.0080 s\n"
     ]
    },
    {
     "data": {
      "image/png": "[encoded data removed]",
      "text/plain": [
       "<Figure size 432x288 with 1 Axes>"
      ]
     },
     "metadata": {
      "needs_background": "light"
     },
     "output_type": "display_data"
    },
    {
     "data": {
      "text/plain": [
       "<Figure size 432x288 with 0 Axes>"
      ]
     },
     "metadata": {},
     "output_type": "display_data"
    },
    {
     "name": "stdout",
     "output_type": "stream",
     "text": [
      "*get threshold edge: 0.0050 s\n",
      "total time: 0.0110 s\n"
     ]
    },
    {
     "data": {
      "image/png": "[encoded data removed]",
      "text/plain": [
       "<Figure size 432x288 with 1 Axes>"
      ]
     },
     "metadata": {
      "needs_background": "light"
     },
     "output_type": "display_data"
    },
    {
     "data": {
      "text/plain": [
       "<Figure size 432x288 with 0 Axes>"
      ]
     },
     "metadata": {},
     "output_type": "display_data"
    },
    {
     "name": "stdout",
     "output_type": "stream",
     "text": [
      "*get threshold edge: 0.0060 s\n",
      "total time: 0.0142 s\n"
     ]
    },
    {
     "data": {
      "image/png": "[encoded data removed]",
      "text/plain": [
       "<Figure size 432x288 with 1 Axes>"
      ]
     },
     "metadata": {
      "needs_background": "light"
     },
     "output_type": "display_data"
    },
    {
     "data": {
      "text/plain": [
       "<Figure size 432x288 with 0 Axes>"
      ]
     },
     "metadata": {},
     "output_type": "display_data"
    },
    {
     "name": "stdout",
     "output_type": "stream",
     "text": [
      "*get threshold edge: 0.0030 s\n",
      "total time: 0.0100 s\n"
     ]
    },
    {
     "data": {
      "image/png": "[encoded data removed]",
      "text/plain": [
       "<Figure size 432x288 with 1 Axes>"
      ]
     },
     "metadata": {
      "needs_background": "light"
     },
     "output_type": "display_data"
    },
    {
     "data": {
      "text/plain": [
       "<Figure size 432x288 with 0 Axes>"
      ]
     },
     "metadata": {},
     "output_type": "display_data"
    },
    {
     "name": "stdout",
     "output_type": "stream",
     "text": [
      "*get threshold edge: 0.0050 s\n",
      "total time: 0.0119 s\n"
     ]
    },
    {
     "data": {
      "image/png": "[encoded data removed]",
      "text/plain": [
       "<Figure size 432x288 with 1 Axes>"
      ]
     },
     "metadata": {
      "needs_background": "light"
     },
     "output_type": "display_data"
    },
    {
     "data": {
      "text/plain": [
       "<Figure size 432x288 with 0 Axes>"
      ]
     },
     "metadata": {},
     "output_type": "display_data"
    },
    {
     "name": "stdout",
     "output_type": "stream",
     "text": [
      "*get threshold edge: 0.0010 s\n",
      "total time: 0.0449 s\n"
     ]
    },
    {
     "data": {
      "image/png": "[encoded data removed]",
      "text/plain": [
       "<Figure size 432x288 with 1 Axes>"
      ]
     },
     "metadata": {
      "needs_background": "light"
     },
     "output_type": "display_data"
    },
    {
     "data": {
      "text/plain": [
       "<Figure size 432x288 with 0 Axes>"
      ]
     },
     "metadata": {},
     "output_type": "display_data"
    },
    {
     "name": "stdout",
     "output_type": "stream",
     "text": [
      "*get threshold edge: 0.0010 s\n",
      "total time: 0.0060 s\n"
     ]
    },
    {
     "data": {
      "image/png": "[encoded data removed]",
      "text/plain": [
       "<Figure size 432x288 with 1 Axes>"
      ]
     },
     "metadata": {
      "needs_background": "light"
     },
     "output_type": "display_data"
    },
    {
     "data": {
      "text/plain": [
       "<Figure size 432x288 with 0 Axes>"
      ]
     },
     "metadata": {},
     "output_type": "display_data"
    },
    {
     "name": "stdout",
     "output_type": "stream",
     "text": [
      "*get threshold edge: 0.0010 s\n",
      "total time: 0.0708 s\n"
     ]
    },
    {
     "data": {
      "image/png": "[encoded data removed]",
      "text/plain": [
       "<Figure size 432x288 with 1 Axes>"
      ]
     },
     "metadata": {
      "needs_background": "light"
     },
     "output_type": "display_data"
    },
    {
     "data": {
      "text/plain": [
       "<Figure size 432x288 with 0 Axes>"
      ]
     },
     "metadata": {},
     "output_type": "display_data"
    },
    {
     "name": "stdout",
     "output_type": "stream",
     "text": [
      "*get threshold edge: 0.0010 s\n",
      "total time: 0.0748 s\n"
     ]
    },
    {
     "data": {
      "image/png": "[encoded data removed]",
      "text/plain": [
       "<Figure size 432x288 with 1 Axes>"
      ]
     },
     "metadata": {
      "needs_background": "light"
     },
     "output_type": "display_data"
    },
    {
     "data": {
      "text/plain": [
       "<Figure size 432x288 with 0 Axes>"
      ]
     },
     "metadata": {},
     "output_type": "display_data"
    },
    {
     "name": "stdout",
     "output_type": "stream",
     "text": [
      "*get threshold edge: 0.0020 s\n",
      "touched pos: (51, 147)\n",
      "total time: 0.0758 s\n"
     ]
    },
    {
     "data": {
      "image/png": "[encoded data removed]",
      "text/plain": [
       "<Figure size 432x288 with 1 Axes>"
      ]
     },
     "metadata": {
      "needs_background": "light"
     },
     "output_type": "display_data"
    },
    {
     "data": {
      "text/plain": [
       "<Figure size 432x288 with 0 Axes>"
      ]
     },
     "metadata": {},
     "output_type": "display_data"
    },
    {
     "name": "stdout",
     "output_type": "stream",
     "text": [
      "*get threshold edge: 0.0010 s\n",
      "touched pos: (111, 51)\n",
      "total time: 0.0508 s\n"
     ]
    },
    {
     "data": {
      "image/png": "[encoded data removed]",
      "text/plain": [
       "<Figure size 432x288 with 1 Axes>"
      ]
     },
     "metadata": {
      "needs_background": "light"
     },
     "output_type": "display_data"
    },
    {
     "data": {
      "text/plain": [
       "<Figure size 432x288 with 0 Axes>"
      ]
     },
     "metadata": {},
     "output_type": "display_data"
    },
    {
     "name": "stdout",
     "output_type": "stream",
     "text": [
      "*get threshold edge: 0.0020 s\n",
      "total time: 0.0588 s\n"
     ]
    },
    {
     "data": {
      "image/png": "[encoded data removed]",
      "text/plain": [
       "<Figure size 432x288 with 1 Axes>"
      ]
     },
     "metadata": {
      "needs_background": "light"
     },
     "output_type": "display_data"
    },
    {
     "data": {
      "text/plain": [
       "<Figure size 432x288 with 0 Axes>"
      ]
     },
     "metadata": {},
     "output_type": "display_data"
    },
    {
     "name": "stdout",
     "output_type": "stream",
     "text": [
      "*get threshold edge: 0.0010 s\n",
      "total time: 0.0489 s\n"
     ]
    },
    {
     "data": {
      "image/png": "[encoded data removed]",
      "text/plain": [
       "<Figure size 432x288 with 1 Axes>"
      ]
     },
     "metadata": {
      "needs_background": "light"
     },
     "output_type": "display_data"
    },
    {
     "data": {
      "text/plain": [
       "<Figure size 432x288 with 0 Axes>"
      ]
     },
     "metadata": {},
     "output_type": "display_data"
    },
    {
     "name": "stdout",
     "output_type": "stream",
     "text": [
      "*get threshold edge: 0.0020 s\n",
      "touched pos: (39, 101)\n",
      "total time: 0.0798 s\n"
     ]
    },
    {
     "data": {
      "image/png": "[encoded data removed]",
      "text/plain": [
       "<Figure size 432x288 with 1 Axes>"
      ]
     },
     "metadata": {
      "needs_background": "light"
     },
     "output_type": "display_data"
    },
    {
     "data": {
      "text/plain": [
       "<Figure size 432x288 with 0 Axes>"
      ]
     },
     "metadata": {},
     "output_type": "display_data"
    },
    {
     "name": "stdout",
     "output_type": "stream",
     "text": [
      "*get threshold edge: 0.0010 s\n",
      "total time: 0.0549 s\n"
     ]
    },
    {
     "data": {
      "image/png": "[encoded data removed]",
      "text/plain": [
       "<Figure size 432x288 with 1 Axes>"
      ]
     },
     "metadata": {
      "needs_background": "light"
     },
     "output_type": "display_data"
    },
    {
     "data": {
      "text/plain": [
       "<Figure size 432x288 with 0 Axes>"
      ]
     },
     "metadata": {},
     "output_type": "display_data"
    },
    {
     "name": "stdout",
     "output_type": "stream",
     "text": [
      "*get threshold edge: 0.0050 s\n",
      "total time: 0.0439 s\n"
     ]
    },
    {
     "data": {
      "image/png": "[encoded data removed]",
      "text/plain": [
       "<Figure size 432x288 with 1 Axes>"
      ]
     },
     "metadata": {
      "needs_background": "light"
     },
     "output_type": "display_data"
    },
    {
     "data": {
      "text/plain": [
       "<Figure size 432x288 with 0 Axes>"
      ]
     },
     "metadata": {},
     "output_type": "display_data"
    },
    {
     "name": "stdout",
     "output_type": "stream",
     "text": [
      "*get threshold edge: 0.0040 s\n",
      "touched pos: (91, 91)\n",
      "total time: 0.0628 s\n"
     ]
    },
    {
     "data": {
      "image/png": "[encoded data removed]",
      "text/plain": [
       "<Figure size 432x288 with 1 Axes>"
      ]
     },
     "metadata": {
      "needs_background": "light"
     },
     "output_type": "display_data"
    },
    {
     "data": {
      "text/plain": [
       "<Figure size 432x288 with 0 Axes>"
      ]
     },
     "metadata": {},
     "output_type": "display_data"
    },
    {
     "name": "stdout",
     "output_type": "stream",
     "text": [
      "*get threshold edge: 0.0010 s\n",
      "touched pos: (137, 135)\n",
      "total time: 0.0818 s\n"
     ]
    },
    {
     "data": {
      "image/png": "[encoded data removed]",
      "text/plain": [
       "<Figure size 432x288 with 1 Axes>"
      ]
     },
     "metadata": {
      "needs_background": "light"
     },
     "output_type": "display_data"
    },
    {
     "data": {
      "text/plain": [
       "<Figure size 432x288 with 0 Axes>"
      ]
     },
     "metadata": {},
     "output_type": "display_data"
    },
    {
     "name": "stdout",
     "output_type": "stream",
     "text": [
      "*get threshold edge: 0.0020 s\n",
      "total time: 0.0479 s\n"
     ]
    },
    {
     "data": {
      "image/png": "[encoded data removed]",
      "text/plain": [
       "<Figure size 432x288 with 1 Axes>"
      ]
     },
     "metadata": {
      "needs_background": "light"
     },
     "output_type": "display_data"
    },
    {
     "data": {
      "text/plain": [
       "<Figure size 432x288 with 0 Axes>"
      ]
     },
     "metadata": {},
     "output_type": "display_data"
    },
    {
     "name": "stdout",
     "output_type": "stream",
     "text": [
      "*get threshold edge: 0.0020 s\n",
      "total time: 0.0060 s\n"
     ]
    },
    {
     "data": {
      "image/png": "[encoded data removed]",
      "text/plain": [
       "<Figure size 432x288 with 1 Axes>"
      ]
     },
     "metadata": {
      "needs_background": "light"
     },
     "output_type": "display_data"
    },
    {
     "data": {
      "text/plain": [
       "<Figure size 432x288 with 0 Axes>"
      ]
     },
     "metadata": {},
     "output_type": "display_data"
    },
    {
     "name": "stdout",
     "output_type": "stream",
     "text": [
      "*get threshold edge: 0.0010 s\n",
      "touched pos: (60, 47)\n",
      "total time: 0.0329 s\n"
     ]
    },
    {
     "data": {
      "image/png": "[encoded data removed]",
      "text/plain": [
       "<Figure size 432x288 with 1 Axes>"
      ]
     },
     "metadata": {
      "needs_background": "light"
     },
     "output_type": "display_data"
    },
    {
     "data": {
      "text/plain": [
       "<Figure size 432x288 with 0 Axes>"
      ]
     },
     "metadata": {},
     "output_type": "display_data"
    },
    {
     "name": "stdout",
     "output_type": "stream",
     "text": [
      "*get threshold edge: 0.0020 s\n",
      "touched pos: (56, 22)\n",
      "total time: 0.0219 s\n"
     ]
    },
    {
     "data": {
      "image/png": "[encoded data removed]",
      "text/plain": [
       "<Figure size 432x288 with 1 Axes>"
      ]
     },
     "metadata": {
      "needs_background": "light"
     },
     "output_type": "display_data"
    },
    {
     "data": {
      "text/plain": [
       "<Figure size 432x288 with 0 Axes>"
      ]
     },
     "metadata": {},
     "output_type": "display_data"
    },
    {
     "name": "stdout",
     "output_type": "stream",
     "text": [
      "*get threshold edge: 0.0010 s\n",
      "total time: 0.0299 s\n"
     ]
    },
    {
     "data": {
      "image/png": "[encoded data removed]",
      "text/plain": [
       "<Figure size 432x288 with 1 Axes>"
      ]
     },
     "metadata": {
      "needs_background": "light"
     },
     "output_type": "display_data"
    },
    {
     "data": {
      "text/plain": [
       "<Figure size 432x288 with 0 Axes>"
      ]
     },
     "metadata": {},
     "output_type": "display_data"
    },
    {
     "name": "stdout",
     "output_type": "stream",
     "text": [
      "*get threshold edge: 0.0050 s\n",
      "total time: 0.0599 s\n"
     ]
    },
    {
     "data": {
      "image/png": "[encoded data removed]",
      "text/plain": [
       "<Figure size 432x288 with 1 Axes>"
      ]
     },
     "metadata": {
      "needs_background": "light"
     },
     "output_type": "display_data"
    },
    {
     "data": {
      "text/plain": [
       "<Figure size 432x288 with 0 Axes>"
      ]
     },
     "metadata": {},
     "output_type": "display_data"
    },
    {
     "name": "stdout",
     "output_type": "stream",
     "text": [
      "*get threshold edge: 0.0010 s\n",
      "total time: 0.0479 s\n"
     ]
    },
    {
     "data": {
      "image/png": "[encoded data removed]",
      "text/plain": [
       "<Figure size 432x288 with 1 Axes>"
      ]
     },
     "metadata": {
      "needs_background": "light"
     },
     "output_type": "display_data"
    },
    {
     "data": {
      "text/plain": [
       "<Figure size 432x288 with 0 Axes>"
      ]
     },
     "metadata": {},
     "output_type": "display_data"
    },
    {
     "name": "stdout",
     "output_type": "stream",
     "text": [
      "*get threshold edge: 0.0010 s\n",
      "total time: 0.0529 s\n"
     ]
    },
    {
     "data": {
      "image/png": "[encoded data removed]",
      "text/plain": [
       "<Figure size 432x288 with 1 Axes>"
      ]
     },
     "metadata": {
      "needs_background": "light"
     },
     "output_type": "display_data"
    },
    {
     "data": {
      "text/plain": [
       "<Figure size 432x288 with 0 Axes>"
      ]
     },
     "metadata": {},
     "output_type": "display_data"
    },
    {
     "name": "stdout",
     "output_type": "stream",
     "text": [
      "*get threshold edge: 0.0010 s\n",
      "total time: 0.0778 s\n"
     ]
    },
    {
     "data": {
      "image/png": "[encoded data removed]",
      "text/plain": [
       "<Figure size 432x288 with 1 Axes>"
      ]
     },
     "metadata": {
      "needs_background": "light"
     },
     "output_type": "display_data"
    },
    {
     "data": {
      "text/plain": [
       "<Figure size 432x288 with 0 Axes>"
      ]
     },
     "metadata": {},
     "output_type": "display_data"
    },
    {
     "name": "stdout",
     "output_type": "stream",
     "text": [
      "*get threshold edge: 0.0060 s\n",
      "total time: 0.1187 s\n"
     ]
    },
    {
     "data": {
      "image/png": "[encoded data removed]",
      "text/plain": [
       "<Figure size 432x288 with 1 Axes>"
      ]
     },
     "metadata": {
      "needs_background": "light"
     },
     "output_type": "display_data"
    },
    {
     "data": {
      "text/plain": [
       "<Figure size 432x288 with 0 Axes>"
      ]
     },
     "metadata": {},
     "output_type": "display_data"
    },
    {
     "name": "stdout",
     "output_type": "stream",
     "text": [
      "*get threshold edge: 0.0010 s\n",
      "total time: 0.0549 s\n"
     ]
    },
    {
     "data": {
      "image/png": "[encoded data removed]",
      "text/plain": [
       "<Figure size 432x288 with 1 Axes>"
      ]
     },
     "metadata": {
      "needs_background": "light"
     },
     "output_type": "display_data"
    },
    {
     "data": {
      "text/plain": [
       "<Figure size 432x288 with 0 Axes>"
      ]
     },
     "metadata": {},
     "output_type": "display_data"
    },
    {
     "name": "stdout",
     "output_type": "stream",
     "text": [
      "         2329066 function calls (2275302 primitive calls) in 20.125 seconds\n",
      "\n",
      "   Ordered by: standard name\n",
      "\n",
      "   ncalls  tottime  percall  cumtime  percall filename:lineno(function)\n",
      "        2    0.000    0.000    0.000    0.000 :0(CamInfoMap_size)\n",
      "        1    0.000    0.000    0.000    0.000 :0(CameraManager_createCamera)\n",
      "       30    0.000    0.000    0.000    0.000 :0(Canny)\n",
      "       60    0.109    0.002    0.109    0.002 :0(GaussianBlur)\n",
      "        1    0.000    0.000    0.000    0.000 :0(ICameraDevicePtr_getCameraInfo)\n",
      "        1    0.000    0.000    0.000    0.000 :0(ICameraDevicePtr_getCameraName)\n",
      "        1    0.000    0.000    0.000    0.000 :0(ICameraDevicePtr_getCurrentUseCase)\n",
      "        1    0.000    0.000    0.000    0.000 :0(ICameraDevicePtr_getFilterLevel)\n",
      "        2    0.000    0.000    0.000    0.000 :0(ICameraDevicePtr_getFrameRate)\n",
      "        1    0.000    0.000    0.000    0.000 :0(ICameraDevicePtr_getMaxSensorHeight)\n",
      "        1    0.000    0.000    0.000    0.000 :0(ICameraDevicePtr_getMaxSensorWidth)\n",
      "        1    0.000    0.000    0.000    0.000 :0(ICameraDevicePtr_getNumberOfStreams)\n",
      "        2    0.000    0.000    0.000    0.000 :0(ICameraDevicePtr_getUseCases)\n",
      "        1    0.062    0.062    0.062    0.062 :0(ICameraDevicePtr_initialize)\n",
      "        1    0.000    0.000    0.000    0.000 :0(ICameraDevicePtr_isConnected)\n",
      "        1    0.000    0.000    0.000    0.000 :0(ICameraDevicePtr_registerDataListener)\n",
      "        1    0.000    0.000    0.000    0.000 :0(ICameraDevicePtr_startCapture)\n",
      "        1    0.172    0.172    0.172    0.172 :0(ICameraDevicePtr_stopCapture)\n",
      "        2    0.000    0.000    0.000    0.000 :0(StringVector___getitem__)\n",
      "        2    0.000    0.000    0.000    0.000 :0(StringVector_size)\n",
      "       90    0.000    0.000    0.000    0.000 :0(__array_prepare__)\n",
      "      388    0.000    0.000    0.000    0.000 :0(__enter__)\n",
      "      388    0.000    0.000    0.000    0.000 :0(__exit__)\n",
      "     7110    0.016    0.000    0.016    0.000 :0(__new__)\n",
      "       30    0.000    0.000    0.000    0.000 :0(__reduce_ex__)\n",
      "    75404    0.266    0.000    0.266    0.000 :0(abs)\n",
      "     1323    0.109    0.000    0.109    0.000 :0(acquire)\n",
      "     1505    0.000    0.000    0.000    0.000 :0(add)\n",
      "     6150    0.031    0.000    0.031    0.000 :0(affine_transform)\n",
      "     2670    0.016    0.000    0.031    0.000 :0(all)\n",
      "      232    0.000    0.000    0.000    0.000 :0(allocate_lock)\n",
      "      600    0.000    0.000    0.000    0.000 :0(any)\n",
      "    18538    0.062    0.000    0.062    0.000 :0(append)\n",
      "      300    0.000    0.000    0.000    0.000 :0(arange)\n",
      "    55044    0.297    0.000    0.297    0.000 :0(array)\n",
      "     1140    0.000    0.000    0.000    0.000 :0(astype)\n",
      "       30    0.000    0.000    0.000    0.000 :0(b2a_base64)\n",
      "      120    0.000    0.000    0.000    0.000 :0(b2a_hex)\n",
      "     1500    0.016    0.000    0.016    0.000 :0(bit_length)\n",
      "     3852    0.016    0.000    0.016    0.000 :0(callable)\n",
      "       60    0.000    0.000    0.000    0.000 :0(can_cast)\n",
      "      120    0.000    0.000    0.000    0.000 :0(ceil)\n",
      "      113    0.047    0.000    0.047    0.000 :0(circle)\n",
      "     1385    0.000    0.000    0.000    0.000 :0(clear)\n",
      "      300    0.000    0.000    0.000    0.000 :0(clip)\n",
      "       60    0.000    0.000    0.000    0.000 :0(collect)\n",
      "     2220    0.000    0.000    0.000    0.000 :0(concatenate)\n",
      "       31    0.000    0.000    0.000    0.000 :0(contourArea)\n",
      "       60    0.000    0.000    0.000    0.000 :0(convertScaleAbs)\n",
      "       26    0.000    0.000    0.000    0.000 :0(convexHull)\n",
      "    16752    0.156    0.000    0.156    0.000 :0(copy)\n",
      "       60    0.000    0.000    0.000    0.000 :0(copyto)\n",
      "       60    0.000    0.000    0.000    0.000 :0(cos)\n",
      "     4440    0.000    0.000    0.000    0.000 :0(count)\n",
      "       60    0.000    0.000    0.000    0.000 :0(cumsum)\n",
      "       30    0.000    0.000    0.000    0.000 :0(cvtColor)\n",
      "      150    0.000    0.000    0.000    0.000 :0(decode)\n",
      "        1    0.094    0.094    0.094    0.094 :0(destroyAllWindows)\n",
      "       60    0.000    0.000    0.000    0.000 :0(digest)\n",
      "        1    0.000    0.000    0.000    0.000 :0(discard)\n",
      "      600    0.000    0.000    0.000    0.000 :0(divmod)\n",
      "    18372    1.578    0.000    1.578    0.000 :0(dot)\n",
      "        8    0.000    0.000    0.000    0.000 :0(dragon4_positional)\n",
      "       22    0.000    0.000    0.000    0.000 :0(drawContours)\n",
      "       60    0.000    0.000    0.000    0.000 :0(draw_glyphs_to_bitmap)\n",
      "       60    0.016    0.000    0.062    0.001 :0(draw_image)\n",
      "       90    0.031    0.000    0.031    0.000 :0(draw_path)\n",
      "       60    0.000    0.000    0.000    0.000 :0(draw_text_image)\n",
      "      120    0.000    0.000    0.000    0.000 :0(empty)\n",
      "      300    0.000    0.000    0.000    0.000 :0(encode)\n",
      "        1    0.000    0.000   20.125   20.125 :0(exec)\n",
      "     2251    0.000    0.000    0.000    0.000 :0(extend)\n",
      "        9    0.000    0.000    0.000    0.000 :0(find)\n",
      "       30    0.000    0.000    0.000    0.000 :0(findContours)\n",
      "      840    0.000    0.000    0.000    0.000 :0(flatten)\n",
      "      160    0.000    0.000    0.000    0.000 :0(floodFill)\n",
      "     1264    0.000    0.000    0.000    0.000 :0(floor)\n",
      "      960    0.000    0.000    0.000    0.000 :0(format)\n",
      "        2    0.000    0.000    0.000    0.000 :0(fspath)\n",
      "     6664    0.031    0.000    0.031    0.000 :0(get)\n",
      "       60    0.000    0.000    0.000    0.000 :0(get_bitmap_offset)\n",
      "     1260    0.016    0.000    0.016    0.000 :0(get_descent)\n",
      "        1    0.000    0.000    0.000    0.000 :0(get_ident)\n",
      "      210    0.000    0.000    0.031    0.000 :0(get_path_extents)\n",
      "     1200    0.000    0.000    0.000    0.000 :0(get_width_height)\n",
      "    57993    0.141    0.000    0.188    0.000 :0(getattr)\n",
      "     1324    0.016    0.000    0.016    0.000 :0(geterrobj)\n",
      "      258    0.000    0.000    0.000    0.000 :0(getpid)\n",
      "     2698    0.031    0.000    0.031    0.000 :0(getrandbits)\n",
      "       90    0.000    0.000    0.000    0.000 :0(getvalue)\n",
      "        2    0.000    0.000    0.000    0.000 :0(group)\n",
      "     9672    0.016    0.000    0.016    0.000 :0(hasattr)\n",
      "13620/8730    0.047    0.000    0.250    0.000 :0(hash)\n",
      "       60    0.000    0.000    0.000    0.000 :0(hexdigest)\n",
      "    15451    0.016    0.000    0.016    0.000 :0(id)\n",
      "       91    0.312    0.003    0.312    0.003 :0(imshow)\n",
      "    96945    0.250    0.000    0.391    0.000 :0(isinstance)\n",
      "      120    0.000    0.000    0.000    0.000 :0(isoformat)\n",
      "      394    0.000    0.000    0.000    0.000 :0(issubclass)\n",
      "     1200    0.000    0.000    0.000    0.000 :0(item)\n",
      "    68963    0.266    0.000    0.266    0.000 :0(items)\n",
      "     9271    0.016    0.000    0.016    0.000 :0(iter)\n",
      "      302    0.000    0.000    0.000    0.000 :0(join)\n",
      "    40299    0.094    0.000    0.094    0.000 :0(len)\n",
      "       61    0.000    0.000    0.000    0.000 :0(locals)\n",
      "      120    0.000    0.000    0.000    0.000 :0(lock_held)\n",
      "      780    0.000    0.000    0.000    0.000 :0(log10)\n",
      "    18033    0.031    0.000    0.031    0.000 :0(lower)\n",
      "        5    0.000    0.000    0.000    0.000 :0(lstrip)\n",
      "     2048    0.000    0.000    0.000    0.000 :0(match)\n",
      "     7029    0.078    0.000    0.109    0.000 :0(max)\n",
      "     2407    0.000    0.000    0.016    0.000 :0(min)\n",
      "       22    0.000    0.000    0.000    0.000 :0(moments)\n",
      "        1    0.000    0.000    0.000    0.000 :0(new_CameraManager)\n",
      "        1    0.000    0.000    0.000    0.000 :0(new_IDepthDataListener)\n",
      "    16020    0.109    0.000    0.500    0.000 :0(next)\n",
      "      300    0.000    0.000    0.000    0.000 :0(nonzero)\n",
      "      480    0.000    0.000    0.000    0.000 :0(normalize_axis_index)\n",
      "      143    0.000    0.000    0.000    0.000 :0(ord)\n",
      "     7542    0.031    0.000    0.031    0.000 :0(pop)\n",
      "      156    0.000    0.000    0.000    0.000 :0(popleft)\n",
      "       85    0.000    0.000    0.109    0.001 :0(print)\n",
      "      124    0.062    0.001    0.062    0.001 :0(putText)\n",
      "      120    0.000    0.000    0.000    0.000 :0(radians)\n",
      "     2040    0.000    0.000    0.000    0.000 :0(ravel)\n",
      "    29782    0.297    0.000    0.297    0.000 :0(reduce)\n",
      "      197    0.000    0.000    0.000    0.000 :0(release)\n",
      "     1112    0.000    0.000    0.000    0.000 :0(remove)\n",
      "     3610    0.016    0.000    0.016    0.000 :0(replace)\n",
      "       60    0.000    0.000    0.000    0.000 :0(repr)\n",
      "       60    0.062    0.001    0.062    0.001 :0(resample)\n",
      "     6960    0.031    0.000    0.031    0.000 :0(reshape)\n",
      "       90    0.000    0.000    0.000    0.000 :0(result_type)\n",
      "        3    0.000    0.000    0.000    0.000 :0(reverse)\n",
      "      600    0.016    0.000    0.016    0.000 :0(round)\n",
      "      210    0.000    0.000    0.000    0.000 :0(rpartition)\n",
      "        2    0.000    0.000    0.000    0.000 :0(rstrip)\n",
      "     1260    0.031    0.000    0.031    0.000 :0(set_size)\n",
      "     1260    0.109    0.000    0.109    0.000 :0(set_text)\n",
      "    16986    0.047    0.000    0.094    0.000 :0(setattr)\n",
      "      640    0.000    0.000    0.000    0.000 :0(setdefault)\n",
      "      662    0.000    0.000    0.000    0.000 :0(seterrobj)\n",
      "        1    0.000    0.000    0.000    0.000 :0(setprofile)\n",
      "       60    0.000    0.000    0.000    0.000 :0(sin)\n",
      "       30    0.391    0.013    0.391    0.013 :0(sleep)\n",
      "      510    0.000    0.000    0.000    0.000 :0(sort)\n",
      "     2550    0.000    0.000    0.000    0.000 :0(sorted)\n",
      "      604    0.000    0.000    0.000    0.000 :0(split)\n",
      "       60    0.000    0.000    0.000    0.000 :0(splitlines)\n",
      "      530    0.000    0.000    0.000    0.000 :0(sqrt)\n",
      "    30630    0.062    0.000    0.062    0.000 :0(startswith)\n",
      "      300    0.016    0.000    0.047    0.000 :0(sum)\n",
      "      486    0.000    0.000    0.000    0.000 :0(time)\n",
      "       30    0.000    0.000    0.000    0.000 :0(unravel_index)\n",
      "     2731    0.016    0.000    0.016    0.000 :0(update)\n",
      "       30    0.000    0.000    0.000    0.000 :0(update_path_extents)\n",
      "       17    0.000    0.000    0.000    0.000 :0(upper)\n",
      "       60    0.000    0.000    0.000    0.000 :0(urandom)\n",
      "       60    0.000    0.000    0.000    0.000 :0(utcnow)\n",
      "    12540    0.016    0.000    0.016    0.000 :0(values)\n",
      "  300/150    0.016    0.000    0.016    0.000 :0(view)\n",
      "      143    3.812    0.027    3.812    0.027 :0(waitKey)\n",
      "       60    0.000    0.000    0.000    0.000 :0(write)\n",
      "       60    0.281    0.005    0.281    0.005 :0(write_png)\n",
      "     2595    0.078    0.000    0.078    0.000 :0(zeros)\n",
      "      210    0.016    0.000    0.016    0.000 <frozen importlib._bootstrap>:416(parent)\n",
      "     1140    0.000    0.000    0.000    0.000 <frozen importlib._bootstrap>:997(_handle_fromlist)\n",
      "        1    0.000    0.000    0.000    0.000 <ipython-input-62-2d32ea48ebab>:3(__init__)\n",
      "       90    0.000    0.000   12.656    0.141 <ipython-input-62-2d32ea48ebab>:57(paint)\n",
      "        1    0.000    0.000   19.781   19.781 <ipython-input-63-e0888269a372>:1(process_event)\n",
      "      530    0.156    0.000    1.625    0.003 <ipython-input-64-edd76c77d8a6>:1(Dis_pt2plane)\n",
      "      500    0.000    0.000    0.000    0.000 <ipython-input-64-edd76c77d8a6>:13(get_Plane)\n",
      "      500    0.016    0.000    0.094    0.000 <ipython-input-64-edd76c77d8a6>:28(Random3points)\n",
      "      500    0.047    0.000    1.703    0.003 <ipython-input-64-edd76c77d8a6>:54(get_inliner_num)\n",
      "        1    0.000    0.000    1.797    1.797 <ipython-input-64-edd76c77d8a6>:66(RANSAM)\n",
      "       30    0.000    0.000    0.062    0.002 <ipython-input-65-d8bb3dafbd4f>:1(get_depth_map)\n",
      "       30    0.000    0.000    0.219    0.007 <ipython-input-66-55990c3a06a5>:1(get_edge_map)\n",
      "       30    0.094    0.003    0.094    0.003 <ipython-input-67-6b98f1ded251>:1(get_high_region)\n",
      "       30    0.031    0.001    0.047    0.002 <ipython-input-68-728958aea754>:1(get_Hand_mask)\n",
      "       30    0.000    0.000    0.719    0.024 <ipython-input-69-593f56fc935f>:1(find_fingertip)\n",
      "       22    0.047    0.002    0.672    0.031 <ipython-input-69-593f56fc935f>:43(find_fingertips_by_dot)\n",
      "     4331    0.391    0.000    0.547    0.000 <ipython-input-70-f567392b136f>:10(Points_is_convex)\n",
      "        1    0.000    0.000   20.125   20.125 <ipython-input-73-2e522ce4c0cf>:1(main)\n",
      "        1    0.000    0.000   20.125   20.125 <string>:1(<module>)\n",
      "     6720    0.000    0.000    0.016    0.000 <string>:12(__new__)\n",
      "      120    0.000    0.000    0.000    0.000 __init__.py:1286(debug)\n",
      "     2220    0.031    0.000    0.031    0.000 __init__.py:1348(is_math_text)\n",
      "     3450    0.016    0.000    0.078    0.000 __init__.py:1357(_to_unmasked_float_array)\n",
      "       60    0.000    0.000    0.000    0.000 __init__.py:1404(get_backend)\n",
      "      660    0.000    0.000    0.000    0.000 __init__.py:142(__init__)\n",
      "      120    0.000    0.000    0.000    0.000 __init__.py:1424(is_interactive)\n",
      "      120    0.000    0.000    0.000    0.000 __init__.py:1530(getEffectiveLevel)\n",
      "      120    0.000    0.000    0.000    0.000 __init__.py:1544(isEnabledFor)\n",
      "     1020    0.000    0.000    0.000    0.000 __init__.py:1589(<lambda>)\n",
      "      300    0.000    0.000    0.000    0.000 __init__.py:162(connect)\n",
      "      240    0.016    0.000    0.031    0.000 __init__.py:1624(safe_first_element)\n",
      "       30    0.000    0.000    0.000    0.000 __init__.py:1640(sanitize_sequence)\n",
      "       30    0.000    0.000    0.141    0.005 __init__.py:1732(inner)\n",
      "       60    0.000    0.000    0.000    0.000 __init__.py:1745(<genexpr>)\n",
      "      240    0.000    0.000    0.000    0.000 __init__.py:183(dumps)\n",
      "      660    0.000    0.000    0.000    0.000 __init__.py:1876(_str_equal)\n",
      "       60    0.000    0.000    0.000    0.000 __init__.py:1886(_str_lower_equal)\n",
      "       60    0.000    0.000    0.000    0.000 __init__.py:189(disconnect)\n",
      "      360    0.000    0.000    0.000    0.000 __init__.py:1917(method)\n",
      "    15300    0.156    0.000    0.375    0.000 __init__.py:1981(_setattr_cm)\n",
      "     7650    0.062    0.000    0.109    0.000 __init__.py:1986(<listcomp>)\n",
      "       30    0.000    0.000    0.000    0.000 __init__.py:2021(__init__)\n",
      "       30    0.000    0.000    0.000    0.000 __init__.py:2033(add)\n",
      "     1050    0.000    0.000    0.000    0.000 __init__.py:204(process)\n",
      "       30    0.000    0.000    0.000    0.000 __init__.py:21(get_projection_class)\n",
      "       60    0.000    0.000    0.000    0.000 __init__.py:231(__init__)\n",
      "     7950    0.031    0.000    0.047    0.000 __init__.py:329(iterable)\n",
      "       60    0.000    0.000    0.000    0.000 __init__.py:371(to_filehandle)\n",
      "      120    0.000    0.000    0.000    0.000 __init__.py:404(open_file_cm)\n",
      "      540    0.000    0.000    0.000    0.000 __init__.py:420(_string_to_bool)\n",
      "       30    0.000    0.000    0.000    0.000 __init__.py:48(get_projection_class)\n",
      "      600    0.000    0.000    0.000    0.000 __init__.py:620(__setitem__)\n",
      "       30    0.000    0.000    0.000    0.000 __init__.py:63(process_projection_requirements)\n",
      "       60    0.000    0.000    0.000    0.000 __init__.py:636(__init__)\n",
      "       60    0.000    0.000    0.000    0.000 __init__.py:664(push)\n",
      "      150    0.000    0.000    0.000    0.000 __init__.py:689(clear)\n",
      "       30    0.000    0.000    0.000    0.000 __init__.py:694(bubble)\n",
      "      120    0.000    0.000    0.000    0.000 __init__.py:75(__init__)\n",
      "       30    0.000    0.000    0.016    0.001 __init__.py:783(safe_masked_invalid)\n",
      "      300    0.000    0.000    0.000    0.000 __init__.py:84(__hash__)\n",
      "   124830    0.359    0.000    0.359    0.000 __init__.py:870(__getitem__)\n",
      "      120    0.000    0.000    0.000    0.000 __init__.py:903(__init__)\n",
      "      120    0.000    0.000    0.000    0.000 __init__.py:904(<dictcomp>)\n",
      "      120    0.000    0.000    0.000    0.000 __init__.py:906(__contains__)\n",
      "      810    0.000    0.000    0.000    0.000 __init__.py:909(clean)\n",
      "      810    0.000    0.000    0.000    0.000 __init__.py:912(<listcomp>)\n",
      "      750    0.000    0.000    0.000    0.000 __init__.py:958(get_siblings)\n",
      "      750    0.000    0.000    0.000    0.000 __init__.py:962(<listcomp>)\n",
      "       30    0.000    0.000    0.047    0.002 _axes.py:172(set_title)\n",
      "       30    0.000    0.000    0.141    0.005 _axes.py:5315(imshow)\n",
      "       60    0.000    0.000    0.016    0.000 _base.py:1138(_set_title_offset_trans)\n",
      "      180    0.000    0.000    0.000    0.000 _base.py:1224(get_aspect)\n",
      "       90    0.000    0.000    0.000    0.000 _base.py:1227(set_aspect)\n",
      "       90    0.000    0.000    0.000    0.000 _base.py:1301(set_adjustable)\n",
      "      120    0.000    0.000    0.000    0.000 _base.py:1346(get_anchor)\n",
      "      120    0.031    0.000    0.031    0.000 _base.py:1415(get_data_ratio)\n",
      "       60    0.000    0.000    0.000    0.000 _base.py:143(__init__)\n",
      "      150    0.016    0.000    0.109    0.001 _base.py:1443(apply_aspect)\n",
      "       60    0.000    0.000    0.000    0.000 _base.py:156(set_prop_cycle)\n",
      "       30    0.000    0.000    0.000    0.000 _base.py:1594(axis)\n",
      "       30    0.000    0.000    0.000    0.000 _base.py:1764(_sci)\n",
      "       30    0.000    0.000    0.016    0.001 _base.py:1866(add_image)\n",
      "       30    0.000    0.000    0.016    0.001 _base.py:2071(update_datalim)\n",
      "      120    0.000    0.000    0.047    0.000 _base.py:2107(_process_unit_info)\n",
      "      240    0.016    0.000    0.047    0.000 _base.py:2110(_process_single_axis)\n",
      "      180    0.000    0.000    0.000    0.000 _base.py:2507(_get_axis_list)\n",
      "      120    0.016    0.000    0.031    0.000 _base.py:2510(_update_title_position)\n",
      "       60    0.000    0.000    0.625    0.010 _base.py:2556(draw)\n",
      "       30    0.000    0.000    0.000    0.000 _base.py:2690(set_axisbelow)\n",
      "       60    0.000    0.000    0.766    0.013 _base.py:2725(grid)\n",
      "       60    0.000    0.000    0.219    0.004 _base.py:2899(tick_params)\n",
      "       30    0.000    0.000    0.000    0.000 _base.py:2998(set_axis_off)\n",
      "       30    0.000    0.000    0.000    0.000 _base.py:3007(set_axis_on)\n",
      "      120    0.000    0.000    0.000    0.000 _base.py:3045(get_xbound)\n",
      "      210    0.000    0.000    0.000    0.000 _base.py:3101(get_xlim)\n",
      "      240    0.000    0.000    0.016    0.000 _base.py:3124(_validate_converted_limits)\n",
      "       60    0.000    0.000    0.047    0.001 _base.py:3142(set_xlim)\n",
      "      210    0.000    0.000    0.000    0.000 _base.py:3276(get_xscale)\n",
      "      120    0.000    0.000    0.000    0.000 _base.py:3453(get_ybound)\n",
      "      210    0.000    0.000    0.000    0.000 _base.py:3509(get_ylim)\n",
      "       60    0.000    0.000    0.031    0.001 _base.py:3532(set_ylim)\n",
      "      210    0.000    0.000    0.000    0.000 _base.py:3666(get_yscale)\n",
      "       30    0.000    0.000    0.000    0.000 _base.py:3918(set_navigate)\n",
      "       30    0.000    0.000    0.000    0.000 _base.py:3934(set_navigate_mode)\n",
      "       30    0.000    0.000    2.172    0.072 _base.py:417(__init__)\n",
      "      150    0.000    0.000    0.000    0.000 _base.py:4251(get_children)\n",
      "       90    0.000    0.000    0.000    0.000 _base.py:4306(get_default_bbox_extra_artists)\n",
      "       90    0.000    0.000    0.000    0.000 _base.py:4325(<listcomp>)\n",
      "       60    0.000    0.000    4.641    0.077 _base.py:4328(get_tightbbox)\n",
      "       60    0.000    0.000    0.000    0.000 _base.py:4403(<listcomp>)\n",
      "       60    0.000    0.000    0.000    0.000 _base.py:573(get_window_extent)\n",
      "       30    0.000    0.000    0.234    0.008 _base.py:588(_init_axis)\n",
      "       30    0.000    0.000    0.016    0.001 _base.py:598(set_figure)\n",
      "       30    0.000    0.000    0.000    0.000 _base.py:618(_set_lim_and_transforms)\n",
      "4650/2550    0.016    0.000    0.016    0.000 _base.py:657(get_xaxis_transform)\n",
      "      510    0.000    0.000    0.047    0.000 _base.py:682(get_xaxis_text1_transform)\n",
      "      510    0.000    0.000    0.016    0.000 _base.py:710(get_xaxis_text2_transform)\n",
      "4650/2550    0.000    0.000    0.016    0.000 _base.py:737(get_yaxis_transform)\n",
      "      510    0.031    0.000    0.094    0.000 _base.py:762(get_yaxis_text1_transform)\n",
      "      510    0.000    0.000    0.047    0.000 _base.py:789(get_yaxis_text2_transform)\n",
      "       60    0.000    0.000    0.000    0.000 _base.py:817(_update_transScale)\n",
      "  150/120    0.000    0.000    0.016    0.000 _base.py:827(get_position)\n",
      "      150    0.000    0.000    0.031    0.000 _base.py:876(_set_position)\n",
      "       90    0.000    0.000    0.000    0.000 _base.py:903(set_axes_locator)\n",
      "      180    0.000    0.000    0.000    0.000 _base.py:914(get_axes_locator)\n",
      "      120    0.016    0.000    0.031    0.000 _base.py:920(_set_artist_props)\n",
      "       30    0.000    0.000    0.125    0.004 _base.py:930(_gen_axes_patch)\n",
      "       30    0.000    0.000    0.156    0.005 _base.py:946(_gen_axes_spines)\n",
      "      150    0.000    0.000    0.156    0.001 _base.py:960(<genexpr>)\n",
      "       30    0.016    0.001    1.547    0.052 _base.py:963(cla)\n",
      "       12    0.000    0.000    0.000    0.000 _collections_abc.py:657(get)\n",
      "      240    0.000    0.000    0.016    0.000 _methods.py:151(_ptp)\n",
      "     2040    0.031    0.000    0.031    0.000 _methods.py:26(_amax)\n",
      "     1560    0.016    0.000    0.016    0.000 _methods.py:30(_amin)\n",
      "      300    0.031    0.000    0.031    0.000 _methods.py:34(_sum)\n",
      "       30    0.000    0.000    0.000    0.000 _methods.py:42(_any)\n",
      "     1560    0.000    0.000    0.000    0.000 _methods.py:45(_all)\n",
      "      300    0.016    0.000    0.016    0.000 _pylab_helpers.py:101(get_active)\n",
      "       60    0.000    0.000    0.000    0.000 _pylab_helpers.py:111(set_active)\n",
      "       60    0.000    0.000    0.000    0.000 _pylab_helpers.py:31(get_fig_manager)\n",
      "       60    0.000    0.000    0.000    0.000 _pylab_helpers.py:67(destroy_all)\n",
      "      120    0.000    0.000    0.000    0.000 _pylab_helpers.py:87(get_all_fig_managers)\n",
      "       30    0.000    0.000    0.000    0.000 _subplots.py:111(get_subplotspec)\n",
      "       30    0.000    0.000    0.016    0.001 _subplots.py:123(update_params)\n",
      "       30    0.000    0.000    2.188    0.073 _subplots.py:18(__init__)\n",
      "    19440    0.062    0.000    0.062    0.000 _weakrefset.py:70(__contains__)\n",
      "    11710    0.078    0.000    0.141    0.000 abc.py:180(__instancecheck__)\n",
      "        1    0.000    0.000    0.000    0.000 argparse.py:1011(__init__)\n",
      "        1    0.000    0.000    0.000    0.000 argparse.py:1211(__init__)\n",
      "        3    0.000    0.000    0.000    0.000 argparse.py:1226(__init__)\n",
      "       34    0.000    0.000    0.000    0.000 argparse.py:1278(register)\n",
      "       12    0.000    0.000    0.000    0.000 argparse.py:1282(_registry_get)\n",
      "        5    0.000    0.000    0.000    0.000 argparse.py:1307(add_argument)\n",
      "        2    0.000    0.000    0.000    0.000 argparse.py:1354(add_argument_group)\n",
      "        5    0.000    0.000    0.000    0.000 argparse.py:1364(_add_action)\n",
      "        5    0.000    0.000    0.000    0.000 argparse.py:1444(_get_optional_kwargs)\n",
      "        5    0.000    0.000    0.000    0.000 argparse.py:1480(_pop_action_class)\n",
      "        3    0.000    0.000    0.000    0.000 argparse.py:1484(_get_handler)\n",
      "        5    0.000    0.000    0.000    0.000 argparse.py:1493(_check_conflict)\n",
      "        2    0.000    0.000    0.000    0.000 argparse.py:1533(__init__)\n",
      "        5    0.000    0.000    0.000    0.000 argparse.py:1555(_add_action)\n",
      "        5    0.000    0.000    0.000    0.000 argparse.py:157(__init__)\n",
      "        1    0.000    0.000    0.000    0.000 argparse.py:1604(__init__)\n",
      "        1    0.000    0.000    0.000    0.000 argparse.py:1642(identity)\n",
      "        5    0.000    0.000    0.000    0.000 argparse.py:1713(_add_action)\n",
      "        1    0.000    0.000    0.000    0.000 argparse.py:1725(_get_positional_actions)\n",
      "        1    0.000    0.000    0.000    0.000 argparse.py:1726(<listcomp>)\n",
      "        1    0.000    0.000    0.000    0.000 argparse.py:1733(parse_args)\n",
      "        1    0.000    0.000    0.000    0.000 argparse.py:1740(parse_known_args)\n",
      "        1    0.000    0.000    0.000    0.000 argparse.py:1775(_parse_known_args)\n",
      "        2    0.000    0.000    0.000    0.000 argparse.py:1822(take_action)\n",
      "        2    0.000    0.000    0.000    0.000 argparse.py:1843(consume_optional)\n",
      "        1    0.000    0.000    0.000    0.000 argparse.py:1920(consume_positionals)\n",
      "        2    0.000    0.000    0.000    0.000 argparse.py:1950(<listcomp>)\n",
      "        5    0.000    0.000    0.000    0.000 argparse.py:202(__init__)\n",
      "        2    0.000    0.000    0.000    0.000 argparse.py:2050(_match_argument)\n",
      "        1    0.000    0.000    0.000    0.000 argparse.py:2071(_match_arguments_partial)\n",
      "        4    0.000    0.000    0.000    0.000 argparse.py:2087(_parse_optional)\n",
      "        2    0.000    0.000    0.000    0.000 argparse.py:2190(_get_nargs_pattern)\n",
      "        2    0.000    0.000    0.000    0.000 argparse.py:2234(_get_values)\n",
      "        2    0.000    0.000    0.000    0.000 argparse.py:2286(_get_value)\n",
      "        2    0.000    0.000    0.000    0.000 argparse.py:2312(_check_value)\n",
      "        5    0.000    0.000    0.000    0.000 argparse.py:2352(_get_formatter)\n",
      "        5    0.000    0.000    0.000    0.000 argparse.py:564(_metavar_formatter)\n",
      "        5    0.000    0.000    0.000    0.000 argparse.py:573(format)\n",
      "        5    0.000    0.000    0.000    0.000 argparse.py:580(_format_args)\n",
      "        1    0.000    0.000    0.000    0.000 argparse.py:595(<listcomp>)\n",
      "        5    0.000    0.000    0.000    0.000 argparse.py:793(__init__)\n",
      "        4    0.000    0.000    0.000    0.000 argparse.py:835(__init__)\n",
      "        2    0.000    0.000    0.000    0.000 argparse.py:864(__call__)\n",
      "        1    0.000    0.000    0.000    0.000 arrayprint.py:1499(_array_str_implementation)\n",
      "        1    0.000    0.000    0.000    0.000 arrayprint.py:358(_get_formatdict)\n",
      "        1    0.000    0.000    0.000    0.000 arrayprint.py:367(<lambda>)\n",
      "        1    0.000    0.000    0.000    0.000 arrayprint.py:411(_get_format_function)\n",
      "        1    0.000    0.000    0.000    0.000 arrayprint.py:463(wrapper)\n",
      "        1    0.000    0.000    0.000    0.000 arrayprint.py:480(_array2string)\n",
      "        1    0.000    0.000    0.000    0.000 arrayprint.py:518(array2string)\n",
      "        1    0.000    0.000    0.000    0.000 arrayprint.py:69(_make_options_dict)\n",
      "        4    0.000    0.000    0.000    0.000 arrayprint.py:693(_extendLine)\n",
      "        1    0.000    0.000    0.000    0.000 arrayprint.py:707(_formatArray)\n",
      "      5/1    0.000    0.000    0.000    0.000 arrayprint.py:716(recurser)\n",
      "        1    0.000    0.000    0.000    0.000 arrayprint.py:74(<dictcomp>)\n",
      "        1    0.000    0.000    0.000    0.000 arrayprint.py:825(_none_or_positive_arg)\n",
      "        1    0.000    0.000    0.000    0.000 arrayprint.py:834(__init__)\n",
      "        1    0.000    0.000    0.000    0.000 arrayprint.py:861(fillFormat)\n",
      "        5    0.000    0.000    0.000    0.000 arrayprint.py:911(<genexpr>)\n",
      "        5    0.000    0.000    0.000    0.000 arrayprint.py:916(<genexpr>)\n",
      "        5    0.000    0.000    0.000    0.000 arrayprint.py:920(<genexpr>)\n",
      "        5    0.000    0.000    0.000    0.000 arrayprint.py:921(<genexpr>)\n",
      "        4    0.000    0.000    0.000    0.000 arrayprint.py:945(__call__)\n",
      "     2100    0.031    0.000    0.312    0.000 artist.py:1008(set)\n",
      "      120    0.000    0.000    0.000    0.000 artist.py:1072(mouseover)\n",
      "     7680    0.016    0.000    0.078    0.000 artist.py:179(convert_xunits)\n",
      "     7680    0.016    0.000    0.047    0.000 artist.py:188(convert_yunits)\n",
      "    62880    0.062    0.000    0.062    0.000 artist.py:197(axes)\n",
      "     8040    0.000    0.000    0.000    0.000 artist.py:205(axes)\n",
      "       30    0.000    0.000    0.000    0.000 artist.py:217(stale)\n",
      "136680/108810    0.422    0.000    0.734    0.000 artist.py:225(stale)\n",
      "      450    0.000    0.000    0.250    0.001 artist.py:255(get_tightbbox)\n",
      "    22290    0.094    0.000    0.141    0.000 artist.py:310(pchanged)\n",
      "      120    0.000    0.000    0.000    0.000 artist.py:318(is_transform_set)\n",
      "     5760    0.016    0.000    0.125    0.000 artist.py:325(set_transform)\n",
      "     3780    0.062    0.000    0.062    0.000 artist.py:338(get_transform)\n",
      "   480/90    0.000    0.000    0.766    0.009 artist.py:42(draw_wrapper)\n",
      "       60    0.000    0.000    0.000    0.000 artist.py:494(get_url)\n",
      "       30    0.000    0.000    0.000    0.000 artist.py:498(set_url)\n",
      "      210    0.000    0.000    0.000    0.000 artist.py:508(get_gid)\n",
      "       90    0.000    0.000    0.000    0.000 artist.py:522(get_snap)\n",
      "       90    0.000    0.000    0.000    0.000 artist.py:560(get_sketch_params)\n",
      "    16140    0.094    0.000    0.219    0.000 artist.py:61(_stale_axes_callback)\n",
      "      150    0.000    0.000    0.000    0.000 artist.py:620(get_path_effects)\n",
      "      120    0.000    0.000    0.000    0.000 artist.py:623(get_figure)\n",
      "     6660    0.031    0.000    0.125    0.000 artist.py:627(set_figure)\n",
      "      180    0.000    0.000    0.000    0.000 artist.py:651(set_clip_box)\n",
      "      450    0.000    0.000    0.141    0.000 artist.py:663(set_clip_path)\n",
      "      180    0.000    0.000    0.000    0.000 artist.py:717(get_alpha)\n",
      "     6720    0.000    0.000    0.000    0.000 artist.py:724(get_visible)\n",
      "   136740    0.219    0.000    0.219    0.000 artist.py:728(get_animated)\n",
      "      510    0.000    0.000    0.000    0.000 artist.py:732(get_in_layout)\n",
      "      450    0.000    0.000    0.000    0.000 artist.py:743(get_clip_on)\n",
      "      450    0.000    0.000    0.000    0.000 artist.py:747(get_clip_box)\n",
      "      480    0.000    0.000    0.000    0.000 artist.py:751(get_clip_path)\n",
      "      210    0.000    0.000    0.000    0.000 artist.py:782(_set_gc_clip)\n",
      "      960    0.016    0.000    0.016    0.000 artist.py:792(get_rasterized)\n",
      "      960    0.000    0.000    0.000    0.000 artist.py:811(get_agg_filter)\n",
      "     6720    0.062    0.000    0.109    0.000 artist.py:82(__init__)\n",
      "     1050    0.031    0.000    0.031    0.000 artist.py:836(set_alpha)\n",
      "      120    0.000    0.000    0.000    0.000 artist.py:848(set_visible)\n",
      "     7530    0.109    0.000    1.031    0.000 artist.py:885(update)\n",
      "     3180    0.062    0.000    0.172    0.000 artist.py:889(_update_property)\n",
      "     7530    0.016    0.000    0.188    0.000 artist.py:916(<listcomp>)\n",
      "       30    0.000    0.000    0.000    0.000 artist.py:923(get_label)\n",
      "       60    0.000    0.000    0.000    0.000 artist.py:927(set_label)\n",
      "       60    0.000    0.000    0.000    0.000 artist.py:943(get_zorder)\n",
      "     2220    0.016    0.000    0.062    0.000 artist.py:947(set_zorder)\n",
      "    10860    0.031    0.000    0.031    0.000 artist.py:962(sticky_edges)\n",
      "     2700    0.047    0.000    0.109    0.000 artist.py:985(update_from)\n",
      "      240    0.078    0.000    1.984    0.008 axis.py:1015(_update_ticks)\n",
      "      240    0.016    0.000    1.594    0.007 axis.py:1114(_get_tick_bboxes)\n",
      "      120    0.000    0.000    4.328    0.036 axis.py:1132(get_tightbbox)\n",
      "      120    0.000    0.000    0.000    0.000 axis.py:1162(<listcomp>)\n",
      "       60    0.000    0.000    3.078    0.051 axis.py:1238(get_majorticklabels)\n",
      "       60    0.000    0.000    0.000    0.000 axis.py:1241(<listcomp>)\n",
      "       60    0.000    0.000    0.000    0.000 axis.py:1242(<listcomp>)\n",
      "       60    0.000    0.000    3.078    0.051 axis.py:1252(get_ticklabels)\n",
      "      540    0.000    0.000    0.500    0.001 axis.py:1352(_copy_tick_props)\n",
      "       60    0.000    0.000    0.000    0.000 axis.py:1372(get_major_locator)\n",
      "      300    0.031    0.000    3.078    0.010 axis.py:1388(get_major_ticks)\n"
     ]
    },
    {
     "name": "stdout",
     "output_type": "stream",
     "text": [
      "      240    0.000    0.000    0.000    0.000 axis.py:1403(get_minor_ticks)\n",
      "      120    0.000    0.000    0.766    0.006 axis.py:1418(grid)\n",
      "      120    0.000    0.000    0.000    0.000 axis.py:1443(<dictcomp>)\n",
      "      120    0.000    0.000    0.031    0.000 axis.py:1460(update_units)\n",
      "      360    0.000    0.000    0.000    0.000 axis.py:1482(_update_axisinfo)\n",
      "      120    0.000    0.000    0.000    0.000 axis.py:1516(have_units)\n",
      "     1680    0.000    0.000    0.031    0.000 axis.py:1519(convert_units)\n",
      "      360    0.000    0.000    0.016    0.000 axis.py:1533(set_units)\n",
      "      480    0.000    0.000    0.000    0.000 axis.py:1571(set_major_formatter)\n",
      "      480    0.000    0.000    0.016    0.000 axis.py:1587(set_minor_formatter)\n",
      "      480    0.016    0.000    0.031    0.000 axis.py:1603(set_major_locator)\n",
      "      480    0.000    0.000    0.000    0.000 axis.py:1619(set_minor_locator)\n",
      "     1020    0.000    0.000    0.000    0.000 axis.py:170(<dictcomp>)\n",
      "      360    0.000    0.000    0.000    0.000 axis.py:1770(get_label_position)\n",
      "      510    0.000    0.000    2.266    0.004 axis.py:1813(_get_tick)\n",
      "       30    0.000    0.000    0.016    0.001 axis.py:1820(_get_label)\n",
      "       30    0.000    0.000    0.016    0.001 axis.py:1838(_get_offset_text)\n",
      "      240    0.000    0.000    0.094    0.000 axis.py:1853(_get_pixel_distance_along_axis)\n",
      "     1020    0.000    0.000    0.000    0.000 axis.py:190(_set_labelrotation)\n",
      "       60    0.000    0.000    1.141    0.019 axis.py:1905(_get_tick_boxes_siblings)\n",
      "       60    0.000    0.000    1.328    0.022 axis.py:1924(_update_label_position)\n",
      "       60    0.000    0.000    0.188    0.003 axis.py:1967(_update_offset_text_position)\n",
      "      360    0.000    0.000    0.000    0.000 axis.py:2062(get_ticks_position)\n",
      "      510    0.000    0.000    0.000    0.000 axis.py:2092(get_view_interval)\n",
      "       60    0.000    0.000    0.000    0.000 axis.py:2117(get_minpos)\n",
      "     1020    0.000    0.000    0.000    0.000 axis.py:213(get_tick_padding)\n",
      "      150    0.000    0.000    0.672    0.004 axis.py:2151(get_tick_space)\n",
      "      510    0.000    0.000    2.172    0.004 axis.py:2189(_get_tick)\n",
      "       30    0.000    0.000    0.016    0.001 axis.py:2196(_get_label)\n",
      "       30    0.000    0.000    0.000    0.000 axis.py:2216(_get_offset_text)\n",
      "      240    0.000    0.000    0.078    0.000 axis.py:2232(_get_pixel_distance_along_axis)\n",
      "       60    0.000    0.000    1.125    0.019 axis.py:2278(_get_tick_boxes_siblings)\n",
      "      180    0.016    0.000    0.125    0.001 axis.py:229(set_clip_path)\n",
      "       60    0.000    0.000    1.234    0.021 axis.py:2297(_update_label_position)\n",
      "       60    0.000    0.000    0.031    0.001 axis.py:2339(_update_offset_text_position)\n",
      "      510    0.000    0.000    0.016    0.000 axis.py:2476(get_view_interval)\n",
      "       60    0.000    0.000    0.000    0.000 axis.py:2502(get_minpos)\n",
      "      150    0.016    0.000    0.703    0.005 axis.py:2536(get_tick_space)\n",
      "     2640    0.016    0.000    0.125    0.000 axis.py:311(set_label1)\n",
      "     2640    0.000    0.000    0.047    0.000 axis.py:324(set_label2)\n",
      "     5100    0.016    0.000    0.094    0.000 axis.py:335(_set_artist_props)\n",
      "      420    0.062    0.000    0.406    0.001 axis.py:342(_apply_params)\n",
      "     2100    0.000    0.000    0.000    0.000 axis.py:346(<genexpr>)\n",
      "      420    0.000    0.000    0.000    0.000 axis.py:365(<dictcomp>)\n",
      "      420    0.000    0.000    0.000    0.000 axis.py:376(<dictcomp>)\n",
      "      420    0.000    0.000    0.000    0.000 axis.py:387(<dictcomp>)\n",
      "      510    0.000    0.000    0.047    0.000 axis.py:411(_get_text1_transform)\n",
      "      510    0.016    0.000    0.031    0.000 axis.py:414(_get_text2_transform)\n",
      "      510    0.000    0.000    0.016    0.000 axis.py:417(apply_tickdir)\n",
      "      510    0.000    0.000    0.297    0.001 axis.py:431(_get_text1)\n",
      "      510    0.000    0.000    0.219    0.000 axis.py:448(_get_text2)\n",
      "      510    0.000    0.000    0.422    0.001 axis.py:464(_get_tick1line)\n",
      "      510    0.000    0.000    0.453    0.001 axis.py:475(_get_tick2line)\n",
      "      510    0.031    0.000    0.750    0.001 axis.py:490(_get_gridline)\n",
      "     1830    0.000    0.000    0.047    0.000 axis.py:506(update_position)\n",
      "      510    0.000    0.000    0.094    0.000 axis.py:534(_get_text1_transform)\n",
      "      510    0.000    0.000    0.047    0.000 axis.py:537(_get_text2_transform)\n",
      "      510    0.000    0.000    0.000    0.000 axis.py:540(apply_tickdir)\n",
      "      510    0.000    0.000    0.281    0.001 axis.py:555(_get_text1)\n",
      "      510    0.016    0.000    0.281    0.001 axis.py:570(_get_text2)\n",
      "      510    0.000    0.000    0.453    0.001 axis.py:585(_get_tick1line)\n",
      "      510    0.031    0.000    0.484    0.001 axis.py:600(_get_tick2line)\n",
      "      510    0.016    0.000    0.594    0.001 axis.py:614(_get_gridline)\n",
      "     1830    0.000    0.000    0.047    0.000 axis.py:629(update_position)\n",
      "  180/120    0.000    0.000    0.812    0.007 axis.py:666(__get__)\n",
      "       60    0.000    0.000    0.172    0.003 axis.py:701(__init__)\n",
      "     1020    0.078    0.000    4.438    0.004 axis.py:72(__init__)\n",
      "      120    0.000    0.000    0.000    0.000 axis.py:760(get_transform)\n",
      "      420    0.000    0.000    0.000    0.000 axis.py:763(get_scale)\n",
      "      480    0.000    0.000    0.344    0.001 axis.py:766(_set_scale)\n",
      "      120    0.000    0.000    0.000    0.000 axis.py:775(limit_range_for_scale)\n",
      "      360    0.000    0.000    0.266    0.001 axis.py:797(cla)\n",
      "      480    0.000    0.000    0.000    0.000 axis.py:820(reset_ticks)\n",
      "      240    0.016    0.000    0.969    0.004 axis.py:840(set_tick_params)\n",
      "      240    0.000    0.000    0.000    0.000 axis.py:871(_translate_tick_kw)\n",
      "       60    0.000    0.000    0.438    0.007 axis.py:923(set_clip_path)\n",
      "      120    0.000    0.000    0.000    0.000 axis.py:958(_set_artist_props)\n",
      "     2880    0.000    0.000    1.422    0.000 axis.py:963(iter_ticks)\n",
      "      240    0.000    0.000    0.078    0.000 axis.py:970(<listcomp>)\n",
      "      240    0.000    0.000    0.000    0.000 axis.py:976(<listcomp>)\n",
      "       90    0.000    0.000    0.000    0.000 backend_agg.py:103(_update_methods)\n",
      "       90    0.000    0.000    0.031    0.000 backend_agg.py:120(draw_path)\n",
      "       60    0.000    0.000    0.047    0.001 backend_agg.py:167(draw_text)\n",
      "     1200    0.062    0.000    0.469    0.000 backend_agg.py:197(get_text_width_height_descent)\n",
      "       60    0.000    0.000    0.000    0.000 backend_agg.py:244(get_canvas_width_height)\n",
      "     1260    0.047    0.000    0.312    0.000 backend_agg.py:248(_get_agg_font)\n",
      "      150    0.000    0.000    0.000    0.000 backend_agg.py:280(option_image_nocomposite)\n",
      "       90    0.000    0.000    0.766    0.009 backend_agg.py:392(draw)\n",
      "      150    0.000    0.000    0.000    0.000 backend_agg.py:409(get_renderer)\n",
      "       60    0.000    0.000    1.016    0.017 backend_agg.py:468(print_png)\n",
      "     1260    0.000    0.000    0.000    0.000 backend_agg.py:50(get_hinting_flag)\n",
      "       90    0.000    0.000    0.000    0.000 backend_agg.py:81(__init__)\n",
      "      210    0.000    0.000    0.000    0.000 backend_bases.py:1016(get_hatch)\n",
      "      210    0.000    0.000    0.000    0.000 backend_bases.py:1022(get_hatch_path)\n",
      "      210    0.000    0.000    0.000    0.000 backend_bases.py:1031(get_hatch_color)\n",
      "      210    0.000    0.000    0.000    0.000 backend_bases.py:1043(get_hatch_linewidth)\n",
      "      210    0.000    0.000    0.000    0.000 backend_bases.py:1049(get_sketch_params)\n",
      "       90    0.000    0.000    0.000    0.000 backend_bases.py:1269(__init__)\n",
      "       90    0.000    0.000    0.000    0.000 backend_bases.py:1298(__init__)\n",
      "       90    0.000    0.000    0.000    0.000 backend_bases.py:147(__init__)\n",
      "      300    0.000    0.000    0.000    0.000 backend_bases.py:151(open_group)\n",
      "      300    0.000    0.000    0.000    0.000 backend_bases.py:158(close_group)\n",
      "       60    0.000    0.000    0.000    0.000 backend_bases.py:1615(__init__)\n",
      "       60    0.016    0.000    0.016    0.000 backend_bases.py:1632(_idle_draw_cntx)\n",
      "       60    0.000    0.000    0.000    0.000 backend_bases.py:1638(is_saving)\n",
      "       90    0.000    0.000    0.000    0.000 backend_bases.py:1683(draw_event)\n",
      "       90    0.000    0.000    0.000    0.000 backend_bases.py:1890(draw)\n",
      "       30    0.000    0.000    0.062    0.002 backend_bases.py:1893(draw_idle)\n",
      "       30    0.000    0.000    0.000    0.000 backend_bases.py:1931(_get_output_canvas)\n",
      "       30    0.000    0.000    6.000    0.200 backend_bases.py:1950(print_figure)\n",
      "      240    0.000    0.000    0.000    0.000 backend_bases.py:2134(mpl_connect)\n",
      "       60    0.000    0.000    0.000    0.000 backend_bases.py:2182(mpl_disconnect)\n",
      "       30    0.000    0.000    0.000    0.000 backend_bases.py:2223(flush_events)\n",
      "       30    0.000    0.000    0.391    0.013 backend_bases.py:2229(start_event_loop)\n",
      "       60    0.000    0.000    0.000    0.000 backend_bases.py:2455(__init__)\n",
      "       30    0.000    0.000    0.000    0.000 backend_bases.py:2469(notify_axes_change)\n",
      "       60    0.000    0.000    0.000    0.000 backend_bases.py:2484(destroy)\n",
      "       60    0.000    0.000    0.031    0.001 backend_bases.py:3210(new_figure_manager)\n",
      "       60    0.000    0.000    0.000    0.000 backend_bases.py:3220(new_figure_manager_given_figure)\n",
      "       60    0.000    0.000    0.000    0.000 backend_bases.py:447(get_image_magnification)\n",
      "       60    0.000    0.000    0.000    0.000 backend_bases.py:650(flipy)\n",
      "      210    0.016    0.000    0.031    0.000 backend_bases.py:671(new_gc)\n",
      "      210    0.000    0.000    0.016    0.000 backend_bases.py:733(__init__)\n",
      "      210    0.000    0.000    0.000    0.000 backend_bases.py:774(restore)\n",
      "      210    0.000    0.000    0.000    0.000 backend_bases.py:804(get_clip_path)\n",
      "      210    0.000    0.000    0.000    0.000 backend_bases.py:814(get_dashes)\n",
      "      210    0.000    0.000    0.000    0.000 backend_bases.py:866(get_snap)\n",
      "      210    0.000    0.000    0.000    0.000 backend_bases.py:879(set_alpha)\n",
      "       90    0.000    0.000    0.000    0.000 backend_bases.py:895(set_antialiased)\n",
      "       90    0.000    0.000    0.000    0.000 backend_bases.py:906(set_capstyle)\n",
      "       60    0.000    0.000    0.000    0.000 backend_bases.py:915(set_clip_rectangle)\n",
      "      210    0.000    0.000    0.000    0.000 backend_bases.py:921(set_clip_path)\n",
      "       90    0.000    0.000    0.000    0.000 backend_bases.py:932(set_dashes)\n",
      "      360    0.000    0.000    0.000    0.000 backend_bases.py:953(set_foreground)\n",
      "       90    0.000    0.000    0.000    0.000 backend_bases.py:970(set_joinstyle)\n",
      "       90    0.000    0.000    0.000    0.000 backend_bases.py:979(set_linewidth)\n",
      "      210    0.000    0.000    0.000    0.000 backend_bases.py:985(set_url)\n",
      "       60    0.000    0.000    0.000    0.000 backend_bases.py:991(set_gid)\n",
      "       90    0.016    0.000    0.016    0.000 backend_bases.py:997(set_snap)\n",
      "       60    0.000    0.000    3.078    0.051 backend_inline.py:171(_fetch_figure_metadata)\n",
      "       60    0.000    0.000    3.078    0.051 backend_inline.py:176(<listcomp>)\n",
      "       60    0.000    0.000    0.000    0.000 backend_inline.py:186(_is_light)\n",
      "       60    0.000    0.000    9.625    0.160 backend_inline.py:19(show)\n",
      "       60    0.000    0.000    0.000    0.000 backend_inline.py:193(_is_transparent)\n",
      "       60    0.000    0.000    0.016    0.000 backend_inline.py:55(draw_if_interactive)\n",
      "       60    0.000    0.000    0.000    0.000 cm.py:154(get_cmap)\n",
      "       30    0.000    0.000    0.000    0.000 cm.py:192(__init__)\n",
      "       60    0.000    0.000    0.000    0.000 cm.py:222(to_rgba)\n",
      "       60    0.000    0.000    0.000    0.000 cm.py:302(get_array)\n",
      "       30    0.000    0.000    0.016    0.001 cm.py:368(autoscale_None)\n",
      "       30    0.000    0.000    0.000    0.000 cm.py:395(changed)\n",
      "       60    0.000    0.000    0.000    0.000 colors.py:106(_sanitize_extrema)\n",
      "     2520    0.031    0.000    0.031    0.000 colors.py:116(_is_nth_color)\n",
      "     2520    0.016    0.000    0.219    0.000 colors.py:150(to_rgba)\n",
      "       60    0.000    0.000    0.000    0.000 colors.py:184(_to_rgba_no_colorcycle)\n",
      "       60    0.000    0.000    0.000    0.000 colors.py:241(to_rgba_array)\n",
      "       30    0.000    0.000    0.000    0.000 colors.py:876(__init__)\n",
      "       30    0.000    0.000    0.016    0.001 colors.py:984(autoscale_None)\n",
      "      180    0.000    0.000    0.000    0.000 configurable.py:381(instance)\n",
      "       60    0.000    0.000    0.000    0.000 configurable.py:426(initialized)\n",
      "     7800    0.016    0.000    0.062    0.000 contextlib.py:157(helper)\n",
      "     7800    0.047    0.000    0.047    0.000 contextlib.py:59(__init__)\n",
      "     7800    0.016    0.000    0.297    0.000 contextlib.py:79(__enter__)\n",
      "     7800    0.125    0.000    0.344    0.000 contextlib.py:85(__exit__)\n",
      "       30    0.000    0.000    0.000    0.000 copy.py:268(_reconstruct)\n",
      "       30    0.000    0.000    0.000    0.000 copy.py:66(copy)\n",
      "       30    0.000    0.000    0.000    0.000 copyreg.py:87(__newobj__)\n",
      "      150    0.000    0.000    0.000    0.000 core.py:1361(getmask)\n",
      "       30    0.000    0.000    0.000    0.000 core.py:1548(_shrink_mask)\n",
      "      120    0.000    0.000    0.000    0.000 core.py:1821(_check_mask_axis)\n",
      "      120    0.000    0.000    0.000    0.000 core.py:211(_recursive_fill_value)\n",
      "      120    0.000    0.000    0.000    0.000 core.py:226(_get_dtype_of)\n",
      "       30    0.016    0.001    0.016    0.001 core.py:2331(masked_invalid)\n",
      "      150    0.000    0.000    0.000    0.000 core.py:2905(_update_from)\n",
      "      120    0.000    0.000    0.000    0.000 core.py:291(_extremum_fill_value)\n",
      "      120    0.000    0.000    0.000    0.000 core.py:293(_scalar_fill_value)\n",
      "      150    0.000    0.000    0.000    0.000 core.py:2931(__array_finalize__)\n",
      "       60    0.000    0.000    0.000    0.000 core.py:306(minimum_fill_value)\n",
      "      540    0.000    0.000    0.000    0.000 core.py:3349(dtype)\n",
      "      420    0.000    0.000    0.000    0.000 core.py:3365(shape)\n",
      "       30    0.000    0.000    0.000    0.000 core.py:3535(shrink_mask)\n",
      "      120    0.000    0.000    0.000    0.000 core.py:3564(_get_data)\n",
      "       60    0.000    0.000    0.000    0.000 core.py:357(maximum_fill_value)\n",
      "      120    0.000    0.000    0.000    0.000 core.py:3663(filled)\n",
      "       60    0.000    0.000    0.000    0.000 core.py:5565(min)\n",
      "       60    0.000    0.000    0.016    0.000 core.py:5686(max)\n",
      "      420    0.000    0.000    0.031    0.000 core.py:594(filled)\n",
      "      360    0.000    0.000    0.000    0.000 cycler.py:138(keys)\n",
      "      360    0.000    0.000    0.000    0.000 cycler.py:225(__iter__)\n",
      "     3358    0.016    0.000    0.016    0.000 cycler.py:227(<genexpr>)\n",
      "      300    0.125    0.000    0.156    0.001 cycler.py:349(by_key)\n",
      "      600    0.000    0.000    0.000    0.000 cycler.py:371(<genexpr>)\n",
      "       60    0.000    0.000    0.016    0.000 decorator.py:decorator-gen-10>:1(__call__)\n",
      "       60    0.000    0.000    0.016    0.000 decorator.py:decorator-gen-11>:1(__call__)\n",
      "       60    0.000    0.000    0.016    0.000 decorator.py:decorator-gen-12>:1(__call__)\n",
      "      540    0.000    0.000    6.188    0.011 decorator.py:decorator-gen-9>:1(__call__)\n",
      "       60    0.000    0.000    0.016    0.000 decorators.py:41(wrapper)\n",
      "      600    0.000    0.000    0.031    0.000 dir2.py:54(get_real_method)\n",
      "       60    0.000    0.000    6.547    0.109 display.py:129(display)\n",
      "    60/30    0.000    0.000    0.000    0.000 display.py:39(_merge)\n",
      "       60    0.000    0.000    0.312    0.005 display.py:79(publish_display_data)\n",
      "       60    0.000    0.000    0.000    0.000 displaypub.py:38(_validate_data)\n",
      "      240    0.000    0.000    0.000    0.000 encoder.py:104(__init__)\n",
      "      240    0.000    0.000    0.000    0.000 encoder.py:182(encode)\n",
      "      240    0.000    0.000    0.000    0.000 encoder.py:204(iterencode)\n",
      "       30    0.000    0.000    0.000    0.000 figure.py:1018(_make_key)\n",
      "       30    0.000    0.000    0.000    0.000 figure.py:1021(fixitems)\n",
      "       30    0.000    0.000    0.000    0.000 figure.py:1037(fixlist)\n",
      "       30    0.000    0.000    0.000    0.000 figure.py:105(_entry_from_axes)\n",
      "       30    0.000    0.000    0.000    0.000 figure.py:106(<dictcomp>)\n",
      "       30    0.000    0.000    0.000    0.000 figure.py:113(bubble)\n",
      "       30    0.000    0.000    0.000    0.000 figure.py:120(add)\n",
      "       30    0.000    0.000    2.188    0.073 figure.py:1216(add_subplot)\n",
      "      180    0.000    0.000    0.000    0.000 figure.py:150(current_key_axes)\n",
      "       60    0.000    0.000    0.000    0.000 figure.py:1578(clf)\n",
      "       90    0.000    0.000    0.766    0.009 figure.py:1615(draw)\n",
      "       60    0.000    0.000    0.000    0.000 figure.py:162(__call__)\n",
      "      150    0.000    0.000    0.000    0.000 figure.py:1627(<genexpr>)\n",
      "       60    0.000    0.000    0.000    0.000 figure.py:1631(<lambda>)\n",
      "       30    0.000    0.000    0.000    0.000 figure.py:165(__contains__)\n",
      "       60    0.000    0.000    0.000    0.000 figure.py:173(__init__)\n",
      "       60    0.000    0.000    0.000    0.000 figure.py:1814(_set_artist_props)\n",
      "      120    0.000    0.000    2.188    0.018 figure.py:1820(gca)\n",
      "       30    0.000    0.000    0.000    0.000 figure.py:1865(sca)\n",
      "       60    0.000    0.000    0.000    0.000 figure.py:1966(add_axobserver)\n",
      "       90    0.000    0.000    0.000    0.000 figure.py:204(update)\n",
      "       30    0.000    0.000    0.000    0.000 figure.py:2229(get_default_bbox_extra_artists)\n",
      "       30    0.000    0.000    0.000    0.000 figure.py:2230(<listcomp>)\n",
      "       30    0.000    0.000    4.812    0.160 figure.py:2239(get_tightbbox)\n",
      "       30    0.000    0.000    0.000    0.000 figure.py:2284(<listcomp>)\n",
      "      540    0.000    0.000    0.000    0.000 figure.py:240(_update_this)\n",
      "       60    0.000    0.000    0.000    0.000 figure.py:273(__repr__)\n",
      "       60    0.016    0.000    0.031    0.001 figure.py:280(__init__)\n",
      "       60    0.000    0.000    0.000    0.000 figure.py:404(_repr_html_)\n",
      "      480    0.000    0.000    0.000    0.000 figure.py:447(_get_axes)\n",
      "     3480    0.016    0.000    0.016    0.000 figure.py:457(_get_dpi)\n",
      "       90    0.031    0.000    0.062    0.001 figure.py:460(_set_dpi)\n",
      "       90    0.000    0.000    0.000    0.000 figure.py:477(get_tight_layout)\n",
      "       60    0.000    0.000    0.000    0.000 figure.py:481(set_tight_layout)\n",
      "      180    0.000    0.000    0.000    0.000 figure.py:499(get_constrained_layout)\n",
      "       60    0.000    0.000    0.000    0.000 figure.py:507(set_constrained_layout)\n",
      "       60    0.000    0.000    0.000    0.000 figure.py:538(set_constrained_layout_pads)\n",
      "    11730    0.000    0.000    0.031    0.000 figure.py:55(_stale_figure_callback)\n",
      "       30    0.000    0.000    0.000    0.000 figure.py:647(get_children)\n",
      "       60    0.000    0.000    0.000    0.000 figure.py:76(__init__)\n",
      "       90    0.000    0.000    0.000    0.000 figure.py:775(set_canvas)\n",
      "      510    0.000    0.000    0.000    0.000 figure.py:80(as_list)\n",
      "      510    0.000    0.000    0.000    0.000 figure.py:84(<listcomp>)\n",
      "      510    0.000    0.000    0.000    0.000 figure.py:86(<listcomp>)\n",
      "       90    0.000    0.000    0.000    0.000 figure.py:871(set_size_inches)\n",
      "       60    0.000    0.000    0.000    0.000 figure.py:88(get)\n",
      "      270    0.000    0.000    0.000    0.000 figure.py:894(<genexpr>)\n",
      "      210    0.000    0.000    0.000    0.000 figure.py:911(get_size_inches)\n",
      "       60    0.000    0.000    0.000    0.000 figure.py:926(get_edgecolor)\n",
      "      120    0.000    0.000    0.000    0.000 figure.py:930(get_facecolor)\n",
      "       60    0.000    0.000    0.000    0.000 figure.py:950(set_edgecolor)\n",
      "       60    0.000    0.000    0.000    0.000 figure.py:960(set_facecolor)\n",
      "     2220    0.000    0.000    0.000    0.000 font_manager.py:1009(get_default_size)\n",
      "     1260    0.031    0.000    0.203    0.000 font_manager.py:1162(findfont)\n",
      "     7560    0.031    0.000    0.047    0.000 font_manager.py:1191(<genexpr>)\n",
      "     1260    0.016    0.000    0.016    0.000 font_manager.py:1288(get_font)\n",
      "     1260    0.016    0.000    0.219    0.000 font_manager.py:1370(findfont)\n",
      "     3330    0.125    0.000    0.344    0.000 font_manager.py:575(__init__)\n",
      "     6150    0.109    0.000    0.250    0.000 font_manager.py:621(__hash__)\n",
      "     1260    0.000    0.000    0.094    0.000 font_manager.py:631(__eq__)\n",
      "     6150    0.000    0.000    0.000    0.000 font_manager.py:637(get_family)\n",
      "     6150    0.031    0.000    0.031    0.000 font_manager.py:649(get_style)\n",
      "     6150    0.031    0.000    0.031    0.000 font_manager.py:656(get_variant)\n",
      "     6150    0.000    0.000    0.000    0.000 font_manager.py:662(get_weight)\n",
      "     6150    0.031    0.000    0.031    0.000 font_manager.py:671(get_stretch)\n",
      "     7710    0.000    0.000    0.000    0.000 font_manager.py:685(get_size_in_points)\n",
      "     6150    0.031    0.000    0.031    0.000 font_manager.py:688(get_file)\n",
      "     2190    0.000    0.000    0.016    0.000 font_manager.py:708(set_family)\n",
      "     2190    0.016    0.000    0.031    0.000 font_manager.py:721(set_style)\n",
      "     2190    0.016    0.000    0.016    0.000 font_manager.py:732(set_variant)\n",
      "     2220    0.016    0.000    0.016    0.000 font_manager.py:742(set_weight)\n",
      "     2190    0.016    0.000    0.047    0.000 font_manager.py:760(set_stretch)\n",
      "     2220    0.016    0.000    0.016    0.000 font_manager.py:778(set_size)\n",
      "     2190    0.000    0.000    0.000    0.000 font_manager.py:803(set_file)\n",
      "     1140    0.000    0.000    0.094    0.000 font_manager.py:827(copy)\n",
      "     5520    0.016    0.000    0.016    0.000 font_manager.py:895(_normalize_font_family)\n",
      "      720    0.016    0.000    6.234    0.009 formatters.py:220(catch_format_error)\n",
      "      660    0.000    0.000    0.000    0.000 formatters.py:274(_get_type)\n",
      "      540    0.000    0.000    6.172    0.011 formatters.py:331(__call__)\n",
      "      660    0.000    0.000    0.000    0.000 formatters.py:359(_check_return)\n",
      "      660    0.000    0.000    0.172    0.000 formatters.py:374(lookup)\n",
      "      660    0.109    0.000    0.156    0.000 formatters.py:397(lookup_by_type)\n",
      "     1800    0.016    0.000    0.031    0.000 formatters.py:550(_in_deferred_types)\n",
      "       60    0.000    0.000    0.016    0.000 formatters.py:689(__call__)\n",
      "       60    0.000    0.000    0.000    0.000 formatters.py:824(_check_return)\n",
      "       60    0.000    0.000    6.234    0.104 formatters.py:89(format)\n",
      "       60    0.000    0.000    0.016    0.000 formatters.py:903(__call__)\n",
      "       60    0.000    0.000    0.000    0.000 formatters.py:940(_check_return)\n",
      "       60    0.000    0.000    0.016    0.000 formatters.py:949(__call__)\n",
      "      300    0.000    0.000    0.000    0.000 fromnumeric.py:1694(nonzero)\n",
      "      300    0.000    0.000    0.016    0.000 fromnumeric.py:1903(clip)\n",
      "      500    0.016    0.000    0.094    0.000 fromnumeric.py:1966(sum)\n",
      "     6750    0.031    0.000    0.281    0.000 fromnumeric.py:2083(any)\n",
      "      360    0.016    0.000    0.016    0.000 fromnumeric.py:2171(all)\n",
      "       60    0.000    0.000    0.000    0.000 fromnumeric.py:2252(cumsum)\n",
      "      240    0.000    0.000    0.016    0.000 fromnumeric.py:2324(ptp)\n",
      "     8221    0.031    0.000    0.359    0.000 fromnumeric.py:2397(amax)\n",
      "     8161    0.031    0.000    0.219    0.000 fromnumeric.py:2512(amin)\n",
      "      600    0.016    0.000    0.031    0.000 fromnumeric.py:2940(around)\n",
      "      600    0.000    0.000    0.031    0.000 fromnumeric.py:3373(round_)\n",
      "      360    0.000    0.000    0.016    0.000 fromnumeric.py:41(_wrapit)\n",
      "     1260    0.000    0.000    0.031    0.000 fromnumeric.py:54(_wrapfunc)\n",
      "    23992    0.312    0.000    0.844    0.000 fromnumeric.py:69(_wrapreduction)\n",
      "    23992    0.078    0.000    0.078    0.000 fromnumeric.py:70(<dictcomp>)\n",
      "      480    0.016    0.000    0.031    0.000 function_base.py:1149(diff)\n",
      "      480    0.000    0.000    0.000    0.000 function_base.py:258(iterable)\n",
      "      420    0.000    0.000    0.000    0.000 getlimits.py:365(__new__)\n",
      "        3    0.000    0.000    0.000    0.000 gettext.py:205(_expand_lang)\n",
      "        3    0.000    0.000    0.000    0.000 gettext.py:466(find)\n",
      "        3    0.000    0.000    0.000    0.000 gettext.py:506(translation)\n",
      "        3    0.000    0.000    0.000    0.000 gettext.py:572(dgettext)\n",
      "        3    0.000    0.000    0.000    0.000 gettext.py:611(gettext)\n",
      "       30    0.000    0.000    0.000    0.000 gridspec.py:145(__getitem__)\n",
      "       30    0.000    0.000    0.000    0.000 gridspec.py:150(_normalize)\n",
      "       30    0.000    0.000    0.000    0.000 gridspec.py:182(__init__)\n",
      "       30    0.000    0.000    0.000    0.000 gridspec.py:288(get_subplot_params)\n",
      "       30    0.000    0.000    0.000    0.000 gridspec.py:305(<dictcomp>)\n",
      "       30    0.000    0.000    0.000    0.000 gridspec.py:36(__init__)\n",
      "       30    0.000    0.000    0.000    0.000 gridspec.py:413(__init__)\n",
      "       30    0.000    0.000    0.000    0.000 gridspec.py:450(get_gridspec)\n",
      "       30    0.000    0.000    0.016    0.001 gridspec.py:478(get_position)\n",
      "       90    0.000    0.000    0.000    0.000 gridspec.py:58(get_geometry)\n",
      "       30    0.000    0.000    0.000    0.000 gridspec.py:73(set_width_ratios)\n",
      "       30    0.000    0.000    0.000    0.000 gridspec.py:82(set_height_ratios)\n",
      "       30    0.000    0.000    0.000    0.000 gridspec.py:91(get_grid_positions)\n",
      "       60    0.000    0.000    0.000    0.000 hmac.py:108(_current)\n",
      "       60    0.000    0.000    0.000    0.000 hmac.py:127(hexdigest)\n",
      "      240    0.000    0.000    0.016    0.000 hmac.py:90(update)\n",
      "       60    0.000    0.000    0.000    0.000 hmac.py:95(copy)\n",
      "   150/90    0.000    0.000    0.625    0.007 image.py:120(_draw_list_compositing_images)\n",
      "      270    0.000    0.000    0.000    0.000 image.py:130(<genexpr>)\n",
      "       60    0.062    0.001    0.062    0.001 image.py:166(_rgb_to_rgba)\n",
      "       30    0.000    0.000    0.000    0.000 image.py:186(__init__)\n",
      "       30    0.000    0.000    0.000    0.000 image.py:231(get_size)\n",
      "       30    0.000    0.000    0.000    0.000 image.py:238(set_alpha)\n",
      "       30    0.000    0.000    0.000    0.000 image.py:249(changed)\n",
      "       60    0.031    0.001    0.188    0.003 image.py:258(_make_image)\n",
      "       60    0.000    0.000    0.281    0.005 image.py:560(draw)\n",
      "       30    0.000    0.000    0.016    0.001 image.py:620(set_data)\n",
      "      120    0.000    0.000    0.000    0.000 image.py:674(get_interpolation)\n",
      "       30    0.000    0.000    0.000    0.000 image.py:685(set_interpolation)\n",
      "       30    0.000    0.000    0.000    0.000 image.py:719(set_resample)\n",
      "       60    0.000    0.000    0.000    0.000 image.py:732(get_resample)\n",
      "       30    0.000    0.000    0.000    0.000 image.py:736(set_filternorm)\n",
      "       60    0.000    0.000    0.000    0.000 image.py:749(get_filternorm)\n",
      "       30    0.000    0.000    0.000    0.000 image.py:753(set_filterrad)\n",
      "       60    0.000    0.000    0.000    0.000 image.py:768(get_filterrad)\n",
      "       30    0.000    0.000    0.000    0.000 image.py:777(__init__)\n",
      "       90    0.000    0.000    0.016    0.000 image.py:817(get_window_extent)\n",
      "       60    0.016    0.000    0.203    0.003 image.py:822(make_image)\n",
      "       60    0.000    0.000    0.000    0.000 image.py:833(_check_unsampled_image)\n",
      "       30    0.000    0.000    0.078    0.003 image.py:840(set_extent)\n",
      "       90    0.000    0.000    0.000    0.000 image.py:860(get_extent)\n",
      "      600    0.000    0.000    0.000    0.000 inspect.py:73(isclass)\n",
      "      529    0.016    0.000    0.172    0.000 iostream.py:195(schedule)\n",
      "       60    0.016    0.000    0.047    0.001 iostream.py:207(send_multipart)\n",
      "       60    0.000    0.000    0.047    0.001 iostream.py:260(send_multipart)\n",
      "      198    0.000    0.000    0.000    0.000 iostream.py:307(_is_master_process)\n",
      "      198    0.000    0.000    0.031    0.000 iostream.py:320(_schedule_flush)\n",
      "      120    0.000    0.000    0.203    0.002 iostream.py:334(flush)\n",
      "      198    0.016    0.000    0.109    0.001 iostream.py:382(write)\n",
      "      529    0.000    0.000    0.000    0.000 iostream.py:93(_event_pipe)\n",
      "      240    0.000    0.000    0.000    0.000 jsonapi.py:31(dumps)\n",
      "   360/60    0.000    0.000    0.031    0.001 jsonutil.py:109(json_clean)\n",
      "      120    0.000    0.000    0.000    0.000 jsonutil.py:34(_ensure_tzinfo)\n",
      "       60    0.000    0.000    0.000    0.000 jsonutil.py:49(encode_images)\n",
      "      120    0.000    0.000    0.000    0.000 jsonutil.py:87(date_default)\n",
      "       90    0.000    0.000    0.000    0.000 linalg.py:111(get_linalg_error_extobj)\n",
      "       90    0.000    0.000    0.000    0.000 linalg.py:116(_makearray)\n",
      "      180    0.000    0.000    0.000    0.000 linalg.py:121(isComplexType)\n",
      "       90    0.000    0.000    0.000    0.000 linalg.py:134(_realType)\n",
      "       90    0.000    0.000    0.000    0.000 linalg.py:144(_commonType)\n",
      "       90    0.000    0.000    0.000    0.000 linalg.py:203(_assertRankAtLeast2)\n",
      "       90    0.000    0.000    0.000    0.000 linalg.py:209(_assertNdSquareness)\n",
      "       90    0.000    0.000    0.000    0.000 linalg.py:486(inv)\n",
      "     3060    0.016    0.000    0.047    0.000 lines.py:1002(set_linewidth)\n",
      "     6120    0.094    0.000    0.156    0.000 lines.py:1019(_split_drawstyle_linestyle)\n",
      "     3060    0.000    0.000    0.141    0.000 lines.py:1044(set_linestyle)\n",
      "     3060    0.016    0.000    0.016    0.000 lines.py:1120(set_markeredgecolor)\n",
      "     3060    0.031    0.000    0.062    0.000 lines.py:1135(set_markeredgewidth)\n",
      "     3060    0.031    0.000    0.141    0.000 lines.py:1149(set_markerfacecolor)\n",
      "     3060    0.016    0.000    0.156    0.000 lines.py:1163(set_markerfacecoloralt)\n",
      "     3060    0.000    0.000    0.000    0.000 lines.py:1177(set_markersize)\n",
      "     4980    0.016    0.000    0.031    0.000 lines.py:1190(set_xdata)\n",
      "     4980    0.031    0.000    0.062    0.000 lines.py:1202(set_ydata)\n",
      "     1620    0.031    0.000    0.375    0.000 lines.py:1229(update_from)\n",
      "     3060    0.031    0.000    0.047    0.000 lines.py:1254(set_dash_joinstyle)\n",
      "     3060    0.016    0.000    0.031    0.000 lines.py:1270(set_solid_joinstyle)\n",
      "     3060    0.031    0.000    0.078    0.000 lines.py:1299(set_dash_capstyle)\n",
      "     3060    0.031    0.000    0.078    0.000 lines.py:1315(set_solid_capstyle)\n",
      "     3060    0.297    0.000    2.453    0.001 lines.py:277(__init__)\n",
      "     3270    0.000    0.000    0.031    0.000 lines.py:30(_get_dash_pattern)\n",
      "     3060    0.000    0.000    0.000    0.000 lines.py:526(set_markevery)\n",
      "     6690    0.031    0.000    0.062    0.000 lines.py:58(_scale_dashes)\n",
      "     3060    0.000    0.000    0.000    0.000 lines.py:607(axes)\n",
      "     3060    0.016    0.000    0.047    0.000 lines.py:620(set_data)\n",
      "     1020    0.078    0.000    0.406    0.000 lines.py:637(recache)\n",
      "     3060    0.031    0.000    0.109    0.000 lines.py:703(set_transform)\n",
      "     1020    0.016    0.000    0.422    0.000 lines.py:939(get_path)\n",
      "     3060    0.000    0.000    0.000    0.000 lines.py:956(set_antialiased)\n",
      "     3060    0.016    0.000    0.016    0.000 lines.py:968(set_color)\n",
      "     3060    0.016    0.000    0.016    0.000 lines.py:979(set_drawstyle)\n",
      "        3    0.000    0.000    0.000    0.000 locale.py:379(normalize)\n",
      "     4680    0.031    0.000    0.688    0.000 markers.py:223(__init__)\n",
      "     9360    0.016    0.000    0.359    0.000 markers.py:247(_recache)\n",
      "     1620    0.000    0.000    0.000    0.000 markers.py:266(get_fillstyle)\n",
      "     4680    0.000    0.000    0.016    0.000 markers.py:269(set_fillstyle)\n",
      "     1620    0.016    0.000    0.016    0.000 markers.py:291(get_marker)\n",
      "     4680    0.094    0.000    0.641    0.000 markers.py:294(set_marker)\n",
      "     1560    0.000    0.000    0.000    0.000 markers.py:335(_set_nothing)\n",
      "      780    0.000    0.000    0.109    0.000 markers.py:753(_set_tickleft)\n"
     ]
    },
    {
     "name": "stdout",
     "output_type": "stream",
     "text": [
      "      780    0.000    0.000    0.047    0.000 markers.py:759(_set_tickright)\n",
      "      780    0.016    0.000    0.062    0.000 markers.py:767(_set_tickup)\n",
      "      780    0.000    0.000    0.109    0.000 markers.py:773(_set_tickdown)\n",
      "      180    0.000    0.000    0.000    0.000 mathtext.py:3227(__init__)\n",
      "        1    0.000    0.000    0.000    0.000 ntpath.py:122(splitdrive)\n",
      "        1    0.000    0.000    0.000    0.000 ntpath.py:200(split)\n",
      "        1    0.000    0.000    0.000    0.000 ntpath.py:234(basename)\n",
      "        1    0.000    0.000    0.000    0.000 ntpath.py:34(_get_bothseps)\n",
      "       60    0.000    0.000    0.000    0.000 numeric.py:175(ones)\n",
      "       90    0.000    0.000    0.000    0.000 numeric.py:2431(isclose)\n",
      "       90    0.000    0.000    0.000    0.000 numeric.py:2508(within_tol)\n",
      "      662    0.031    0.000    0.047    0.000 numeric.py:2656(seterr)\n",
      "      662    0.000    0.000    0.000    0.000 numeric.py:2758(geterr)\n",
      "      331    0.000    0.000    0.000    0.000 numeric.py:3054(__init__)\n",
      "      331    0.000    0.000    0.047    0.000 numeric.py:3058(__enter__)\n",
      "      331    0.000    0.000    0.000    0.000 numeric.py:3063(__exit__)\n",
      "    22171    0.078    0.000    0.234    0.000 numeric.py:469(asarray)\n",
      "     7950    0.047    0.000    0.047    0.000 numeric.py:541(asanyarray)\n",
      "      120    0.000    0.000    0.000    0.000 numerictypes.py:238(obj2sctype)\n",
      "       60    0.000    0.000    0.000    0.000 numerictypes.py:293(issubclass_)\n",
      "       30    0.000    0.000    0.000    0.000 numerictypes.py:365(issubdtype)\n",
      "      120    0.000    0.000    0.000    0.000 numerictypes.py:438(__getitem__)\n",
      "       17    0.000    0.000    0.000    0.000 os.py:664(__getitem__)\n",
      "       17    0.000    0.000    0.000    0.000 os.py:728(check_str)\n",
      "       17    0.000    0.000    0.000    0.000 os.py:734(encodekey)\n",
      "      750    0.000    0.000    0.203    0.000 patches.py:191(get_transform)\n",
      "      120    0.000    0.000    0.000    0.000 patches.py:205(get_patch_transform)\n",
      "       60    0.000    0.000    0.000    0.000 patches.py:222(get_edgecolor)\n",
      "      120    0.000    0.000    0.000    0.000 patches.py:228(get_facecolor)\n",
      "      270    0.000    0.000    0.000    0.000 patches.py:246(set_antialiased)\n",
      "      630    0.000    0.000    0.016    0.000 patches.py:259(_set_edgecolor)\n",
      "      420    0.000    0.000    0.000    0.000 patches.py:274(set_edgecolor)\n",
      "      630    0.000    0.000    0.172    0.000 patches.py:285(_set_facecolor)\n",
      "      420    0.000    0.000    0.141    0.000 patches.py:292(set_facecolor)\n",
      "      360    0.000    0.000    0.000    0.000 patches.py:337(set_linewidth)\n",
      "      210    0.000    0.000    0.000    0.000 patches.py:355(set_linestyle)\n",
      "      210    0.000    0.000    0.047    0.000 patches.py:389(set_fill)\n",
      "      210    0.031    0.000    0.250    0.001 patches.py:41(__init__)\n",
      "      330    0.000    0.000    0.000    0.000 patches.py:411(set_capstyle)\n",
      "      210    0.016    0.000    0.016    0.000 patches.py:430(set_joinstyle)\n",
      "      210    0.000    0.000    0.000    0.000 patches.py:449(set_hatch)\n",
      "       90    0.016    0.000    0.141    0.002 patches.py:484(draw)\n",
      "       90    0.000    0.000    0.156    0.002 patches.py:547(get_window_extent)\n",
      "       90    0.000    0.000    0.141    0.002 patches.py:636(__init__)\n",
      "      180    0.000    0.000    0.000    0.000 patches.py:673(get_path)\n",
      "      630    0.016    0.000    0.156    0.000 patches.py:679(_update_patch_transform)\n",
      "       60    0.000    0.000    0.000    0.000 patches.py:692(_update_x1)\n",
      "       60    0.000    0.000    0.000    0.000 patches.py:695(_update_y1)\n",
      "      630    0.000    0.000    0.031    0.000 patches.py:698(_convert_units)\n",
      "      630    0.000    0.000    0.156    0.000 patches.py:708(get_patch_transform)\n",
      "       60    0.000    0.000    0.000    0.000 patches.py:769(set_bounds)\n",
      "      120    0.000    0.000    0.000    0.000 path.py:159(_fast_from_codes_and_verts)\n",
      "     1290    0.109    0.000    0.156    0.000 path.py:193(_update_values)\n",
      "      690    0.000    0.000    0.000    0.000 path.py:203(vertices)\n",
      "      570    0.000    0.000    0.000    0.000 path.py:217(codes)\n",
      "      330    0.016    0.000    0.016    0.000 path.py:236(simplify_threshold)\n",
      "      120    0.000    0.000    0.000    0.000 path.py:244(simplify_threshold)\n",
      "      450    0.000    0.000    0.000    0.000 path.py:255(should_simplify)\n",
      "      120    0.000    0.000    0.000    0.000 path.py:262(should_simplify)\n",
      "      210    0.000    0.000    0.109    0.001 path.py:516(get_extents)\n",
      "      180    0.000    0.000    0.000    0.000 path.py:621(unit_rectangle)\n",
      "     1290    0.016    0.000    0.203    0.000 path.py:96(__init__)\n",
      "      180    0.000    0.000    0.000    0.000 pretty.py:105(_safe_getattr)\n",
      "       60    0.000    0.000    0.000    0.000 pretty.py:188(__init__)\n",
      "       60    0.000    0.000    0.000    0.000 pretty.py:216(text)\n",
      "       60    0.000    0.000    0.000    0.000 pretty.py:261(begin_group)\n",
      "       60    0.000    0.000    0.000    0.000 pretty.py:296(end_group)\n",
      "       60    0.000    0.000    0.000    0.000 pretty.py:305(flush)\n",
      "      720    0.000    0.000    0.000    0.000 pretty.py:313(_get_mro)\n",
      "       60    0.016    0.000    0.016    0.000 pretty.py:347(__init__)\n",
      "       60    0.000    0.000    0.000    0.000 pretty.py:364(pretty)\n",
      "       60    0.000    0.000    0.000    0.000 pretty.py:409(_in_deferred_types)\n",
      "      120    0.000    0.000    0.000    0.000 pretty.py:474(__init__)\n",
      "       60    0.000    0.000    0.000    0.000 pretty.py:482(__init__)\n",
      "      120    0.000    0.000    0.000    0.000 pretty.py:487(enq)\n",
      "       60    0.000    0.000    0.000    0.000 pretty.py:504(remove)\n",
      "       60    0.000    0.000    0.000    0.000 pretty.py:694(_repr_pprint)\n",
      "        1    0.000    0.000   20.125   20.125 profile:0(main())\n",
      "        0    0.000             0.000          profile:0(profiler)\n",
      "      240    0.016    0.000    0.016    0.000 py3compat.py:188(iteritems)\n",
      "       60    0.000    0.000    0.000    0.000 py3compat.py:19(encode)\n",
      "       60    0.000    0.000    6.000    0.100 pylabtools.py:244(<lambda>)\n",
      "       60    0.000    0.000    6.000    0.100 pylabtools.py:97(print_figure)\n",
      "       60    0.000    0.000    9.625    0.160 pyplot.py:237(show)\n",
      "       30    0.000    0.000    0.016    0.001 pyplot.py:2433(axis)\n",
      "       30    0.000    0.000    2.328    0.078 pyplot.py:2687(imshow)\n",
      "       30    0.000    0.000    0.656    0.022 pyplot.py:274(pause)\n",
      "       30    0.000    0.000    0.000    0.000 pyplot.py:3049(sci)\n",
      "       30    0.000    0.000    0.047    0.002 pyplot.py:3055(title)\n",
      "       60    0.000    0.000    0.047    0.001 pyplot.py:406(figure)\n",
      "      150    0.000    0.000    0.016    0.000 pyplot.py:572(gcf)\n",
      "       60    0.000    0.000    0.000    0.000 pyplot.py:586(get_fignums)\n",
      "       30    0.000    0.000    0.016    0.001 pyplot.py:598(get_current_fig_manager)\n",
      "       60    0.000    0.000    0.000    0.000 pyplot.py:621(close)\n",
      "       30    0.000    0.000    0.078    0.003 pyplot.py:668(draw)\n",
      "      120    0.016    0.000    2.203    0.018 pyplot.py:917(gca)\n",
      "      268    0.047    0.000    0.078    0.000 queue.py:147(get)\n",
      "        5    0.000    0.000    0.000    0.000 queue.py:199(_init)\n",
      "      268    0.000    0.000    0.000    0.000 queue.py:202(_qsize)\n",
      "      156    0.000    0.000    0.000    0.000 queue.py:210(_get)\n",
      "        5    0.000    0.000    0.000    0.000 queue.py:27(__init__)\n",
      "     1500    0.000    0.000    0.047    0.000 random.py:223(_randbelow)\n",
      "      500    0.000    0.000    0.078    0.000 random.py:285(sample)\n",
      "       30    0.000    0.000    0.000    0.000 rcsetup.py:118(validate_bool)\n",
      "       30    0.000    0.000    0.000    0.000 rcsetup.py:178(validate_axisbelow)\n",
      "     2042    0.000    0.000    0.000    0.000 re.py:169(match)\n",
      "       13    0.000    0.000    0.000    0.000 re.py:231(compile)\n",
      "     2055    0.000    0.000    0.000    0.000 re.py:286(_compile)\n",
      "        9    0.000    0.000    0.000    0.000 roypy.py:1163(<lambda>)\n",
      "        1    0.000    0.000    0.000    0.000 roypy.py:1165(<lambda>)\n",
      "        1    0.000    0.000    0.000    0.000 roypy.py:1168(<lambda>)\n",
      "        1    0.000    0.000    0.000    0.000 roypy.py:1173(__init__)\n",
      "        2    0.000    0.000    0.000    0.000 roypy.py:171(<lambda>)\n",
      "        2    0.000    0.000    0.000    0.000 roypy.py:202(__getitem__)\n",
      "        2    0.000    0.000    0.000    0.000 roypy.py:217(size)\n",
      "        2    0.000    0.000    0.000    0.000 roypy.py:278(<lambda>)\n",
      "       14    0.000    0.000    0.000    0.000 roypy.py:51(_swig_setattr_nondynamic)\n",
      "        1    0.000    0.000    0.000    0.000 roypy.py:515(<lambda>)\n",
      "        1    0.000    0.000    0.000    0.000 roypy.py:533(<lambda>)\n",
      "        1    0.000    0.000    0.062    0.062 roypy.py:535(initialize)\n",
      "        1    0.000    0.000    0.000    0.000 roypy.py:541(getCameraName)\n",
      "        1    0.000    0.000    0.000    0.000 roypy.py:544(getCameraInfo)\n",
      "        2    0.000    0.000    0.000    0.000 roypy.py:550(getUseCases)\n",
      "        1    0.000    0.000    0.000    0.000 roypy.py:556(getNumberOfStreams)\n",
      "        1    0.000    0.000    0.000    0.000 roypy.py:559(getCurrentUseCase)\n",
      "        1    0.000    0.000    0.000    0.000 roypy.py:574(registerDataListener)\n",
      "        1    0.000    0.000    0.000    0.000 roypy.py:604(startCapture)\n",
      "        1    0.000    0.000    0.172    0.172 roypy.py:607(stopCapture)\n",
      "        1    0.000    0.000    0.000    0.000 roypy.py:610(getMaxSensorWidth)\n",
      "        1    0.000    0.000    0.000    0.000 roypy.py:613(getMaxSensorHeight)\n",
      "        1    0.000    0.000    0.000    0.000 roypy.py:619(isConnected)\n",
      "        2    0.000    0.000    0.000    0.000 roypy.py:652(getFrameRate)\n",
      "        1    0.000    0.000    0.000    0.000 roypy.py:664(getFilterLevel)\n",
      "       14    0.000    0.000    0.000    0.000 roypy.py:70(_swig_setattr)\n",
      "        1    0.000    0.000    0.000    0.000 roypy.py:722(<lambda>)\n",
      "        2    0.000    0.000    0.000    0.000 roypy.py:74(_swig_getattr)\n",
      "        2    0.000    0.000    0.000    0.000 roypy.py:768(size)\n",
      "        1    0.000    0.000    0.000    0.000 roypy.py:829(<lambda>)\n",
      "        1    0.000    0.000    0.000    0.000 roypy.py:883(<lambda>)\n",
      "        1    0.000    0.000    0.000    0.000 roypy.py:885(<lambda>)\n",
      "        1    0.000    0.000    0.000    0.000 roypy.py:888(__init__)\n",
      "        1    0.000    0.000    0.000    0.000 roypy.py:895(<lambda>)\n",
      "        1    0.000    0.000    0.000    0.000 roypy.py:904(createCamera)\n",
      "        1    0.000    0.000    0.062    0.062 roypy_sample_utils.py:109(open_camera)\n",
      "        1    0.000    0.000    0.000    0.000 roypy_sample_utils.py:17(add_camera_opener_options)\n",
      "        1    0.000    0.000    0.000    0.000 roypy_sample_utils.py:37(__init__)\n",
      "        1    0.000    0.000    0.000    0.000 roypy_sample_utils.py:44(_get_camera_manager)\n",
      "        1    0.000    0.000    0.000    0.000 roypy_sample_utils.py:76(_pre_initialize)\n",
      "        1    0.000    0.000    0.062    0.062 roypy_sample_utils.py:99(open_recording)\n",
      "        1    0.000    0.000    0.000    0.000 sample_camera_info.py:35(print_camera_info)\n",
      "      120    0.000    0.000    0.000    0.000 scale.py:42(limit_range_for_scale)\n",
      "      480    0.016    0.000    0.016    0.000 scale.py:556(scale_factory)\n",
      "      480    0.000    0.000    0.000    0.000 scale.py:60(__init__)\n",
      "      480    0.000    0.000    0.328    0.001 scale.py:63(set_default_locators_and_formatters)\n",
      "      120    0.000    0.000    0.000    0.000 scale.py:78(get_transform)\n",
      "      240    0.000    0.000    0.000    0.000 session.py:102(<lambda>)\n",
      "       60    0.000    0.000    0.000    0.000 session.py:121(new_id)\n",
      "      180    0.000    0.000    0.000    0.000 session.py:132(<genexpr>)\n",
      "       60    0.000    0.000    0.000    0.000 session.py:169(utcnow)\n",
      "       60    0.000    0.000    0.000    0.000 session.py:236(msg_header)\n",
      "       60    0.000    0.000    0.000    0.000 session.py:242(extract_header)\n",
      "       60    0.000    0.000    0.000    0.000 session.py:509(msg_id)\n",
      "       60    0.000    0.000    0.000    0.000 session.py:561(msg_header)\n",
      "       60    0.000    0.000    0.000    0.000 session.py:564(msg)\n",
      "       60    0.000    0.000    0.016    0.000 session.py:583(sign)\n",
      "       60    0.000    0.000    0.031    0.001 session.py:598(serialize)\n",
      "       60    0.000    0.000    0.078    0.001 session.py:657(send)\n",
      "       60    0.000    0.000    0.000    0.000 session.py:739(<listcomp>)\n",
      "     2220    0.016    0.000    0.016    0.000 shape_base.py:209(_arrays_for_stack_dispatcher)\n",
      "     2220    0.000    0.000    0.016    0.000 shape_base.py:220(_warn_for_nonsequence)\n",
      "      180    0.000    0.000    0.000    0.000 shape_base.py:229(vstack)\n",
      "     2880    0.016    0.000    0.031    0.000 shape_base.py:25(atleast_1d)\n",
      "      180    0.000    0.000    0.000    0.000 shape_base.py:283(<listcomp>)\n",
      "      960    0.000    0.000    0.047    0.000 shape_base.py:286(hstack)\n",
      "      960    0.000    0.000    0.031    0.000 shape_base.py:335(<listcomp>)\n",
      "     1080    0.016    0.000    0.031    0.000 shape_base.py:599(column_stack)\n",
      "      540    0.000    0.000    0.000    0.000 shape_base.py:83(atleast_2d)\n",
      "      529    0.141    0.000    0.141    0.000 socket.py:337(send)\n",
      "      120    0.000    0.000    0.000    0.000 spines.py:142(get_patch_transform)\n",
      "      120    0.000    0.000    0.000    0.000 spines.py:155(get_path)\n",
      "4320/4080    0.000    0.000    0.000    0.000 spines.py:158(_ensure_position_is_set)\n",
      "      120    0.000    0.000    0.062    0.001 spines.py:164(register_axis)\n",
      "      120    0.000    0.000    0.078    0.001 spines.py:176(cla)\n",
      "      120    0.000    0.000    0.000    0.000 spines.py:318(_calc_offset_transform)\n",
      "      120    0.000    0.000    0.141    0.001 spines.py:36(__init__)\n",
      "      120    0.000    0.000    0.000    0.000 spines.py:392(set_position)\n",
      "4200/4080    0.016    0.000    0.016    0.000 spines.py:436(get_spine_transform)\n",
      "      120    0.016    0.000    0.156    0.001 spines.py:485(linear_spine)\n",
      "     1020    0.000    0.000    0.000    0.000 stride_tricks.py:185(_broadcast_shape)\n",
      "     1020    0.031    0.000    0.047    0.000 stride_tricks.py:208(broadcast_arrays)\n",
      "     1020    0.000    0.000    0.000    0.000 stride_tricks.py:257(<listcomp>)\n",
      "     3060    0.016    0.000    0.016    0.000 stride_tricks.py:261(<genexpr>)\n",
      "       30    0.000    0.000    0.000    0.000 text.py:1068(set_fontsize)\n",
      "       30    0.000    0.000    0.031    0.001 text.py:1085(set_fontweight)\n",
      "      600    0.000    0.000    0.016    0.000 text.py:1119(set_position)\n",
      "     2430    0.000    0.000    0.016    0.000 text.py:1130(set_x)\n",
      "     2430    0.016    0.000    0.016    0.000 text.py:1141(set_y)\n",
      "     2280    0.016    0.000    0.016    0.000 text.py:1163(set_verticalalignment)\n",
      "     8040    0.047    0.000    0.047    0.000 text.py:1179(set_text)\n",
      "      660    0.000    0.000    0.000    0.000 text.py:1195(is_math_text)\n",
      "     2250    0.031    0.000    0.078    0.000 text.py:1231(set_usetex)\n",
      "      720    0.000    0.000    0.000    0.000 text.py:1245(get_usetex)\n",
      "     2250    0.062    0.000    0.531    0.000 text.py:131(__init__)\n",
      "     3150    0.047    0.000    0.344    0.000 text.py:180(update)\n",
      "      540    0.000    0.000    0.016    0.000 text.py:229(_get_xy_display)\n",
      "      660    0.000    0.000    0.000    0.000 text.py:242(get_rotation)\n",
      "     2250    0.016    0.000    0.016    0.000 text.py:246(set_rotation_mode)\n",
      "      600    0.000    0.000    0.000    0.000 text.py:263(get_rotation_mode)\n",
      "     1080    0.000    0.000    0.125    0.000 text.py:267(update_from)\n",
      "     2370    0.219    0.000    1.156    0.000 text.py:280(_get_layout)\n",
      "      120    0.000    0.000    0.000    0.000 text.py:36(_wrap_text)\n",
      "      660    0.000    0.000    0.000    0.000 text.py:52(get_rotation)\n",
      "      180    0.000    0.000    0.000    0.000 text.py:532(_update_clip_properties)\n",
      "      180    0.000    0.000    0.000    0.000 text.py:539(set_clip_box)\n",
      "       60    0.000    0.000    0.000    0.000 text.py:587(get_wrap)\n",
      "     2250    0.000    0.000    0.000    0.000 text.py:591(set_wrap)\n",
      "      180    0.000    0.000    0.281    0.002 text.py:694(draw)\n",
      "      720    0.000    0.000    0.000    0.000 text.py:764(get_color)\n",
      "      300    0.000    0.000    0.000    0.000 text.py:802(get_fontsize)\n",
      "     5220    0.078    0.000    0.141    0.000 text.py:849(get_unitless_position)\n",
      "      690    0.000    0.000    0.000    0.000 text.py:857(get_position)\n",
      "     2370    0.031    0.000    0.219    0.000 text.py:863(get_prop_tup)\n",
      "     6000    0.000    0.000    0.000    0.000 text.py:881(get_text)\n",
      "     2850    0.062    0.000    1.672    0.001 text.py:892(get_window_extent)\n",
      "     2250    0.031    0.000    0.047    0.000 text.py:958(set_color)\n",
      "     2280    0.016    0.000    0.031    0.000 text.py:974(set_horizontalalignment)\n",
      "       90    0.000    0.000    0.000    0.000 textpath.py:32(__init__)\n",
      "      649    0.000    0.000    0.000    0.000 threading.py:1062(_wait_for_tstate_lock)\n",
      "      649    0.000    0.000    0.016    0.000 threading.py:1104(is_alive)\n",
      "      135    0.000    0.000    0.000    0.000 threading.py:215(__init__)\n",
      "      388    0.000    0.000    0.000    0.000 threading.py:239(__enter__)\n",
      "      388    0.000    0.000    0.000    0.000 threading.py:242(__exit__)\n",
      "      107    0.000    0.000    0.000    0.000 threading.py:248(_release_save)\n",
      "      107    0.000    0.000    0.000    0.000 threading.py:251(_acquire_restore)\n",
      "      263    0.031    0.000    0.031    0.000 threading.py:254(_is_owned)\n",
      "      107    0.000    0.000    0.109    0.001 threading.py:263(wait)\n",
      "      156    0.000    0.000    0.031    0.000 threading.py:334(notify)\n",
      "      120    0.000    0.000    0.000    0.000 threading.py:498(__init__)\n",
      "      649    0.016    0.000    0.016    0.000 threading.py:506(is_set)\n",
      "      120    0.047    0.000    0.156    0.001 threading.py:533(wait)\n",
      "      300    0.000    0.000    0.000    0.000 ticker.py:1445(raise_if_exceeds)\n",
      "      240    0.000    0.000    0.000    0.000 ticker.py:1576(__call__)\n",
      "      240    0.000    0.000    0.000    0.000 ticker.py:1579(tick_values)\n",
      "      300    0.000    0.000    0.000    0.000 ticker.py:1756(scale_range)\n",
      "      300    0.000    0.000    0.000    0.000 ticker.py:1774(__init__)\n",
      "      600    0.000    0.000    0.000    0.000 ticker.py:1785(closeto)\n",
      "      300    0.000    0.000    0.000    0.000 ticker.py:1795(le)\n",
      "      300    0.016    0.000    0.031    0.000 ticker.py:1802(ge)\n",
      "      480    0.000    0.000    0.219    0.000 ticker.py:1821(__init__)\n",
      "      480    0.016    0.000    0.094    0.000 ticker.py:1870(_validate_steps)\n",
      "      960    0.031    0.000    0.078    0.000 ticker.py:1889(_staircase)\n",
      "      960    0.031    0.000    0.219    0.000 ticker.py:1897(set_params)\n",
      "      300    0.016    0.000    1.484    0.005 ticker.py:1923(_raw_ticks)\n",
      "      600    0.016    0.000    0.016    0.000 ticker.py:193(_divmod)\n",
      "      300    0.016    0.000    1.531    0.005 ticker.py:1983(__call__)\n",
      "      300    0.016    0.000    1.500    0.005 ticker.py:1987(tick_values)\n",
      "     1920    0.000    0.000    0.000    0.000 ticker.py:234(set_axis)\n",
      "      480    0.016    0.000    0.234    0.000 ticker.py:2527(__init__)\n",
      "      240    0.000    0.000    0.000    0.000 ticker.py:285(set_locs)\n",
      "      480    0.016    0.000    0.047    0.000 ticker.py:493(__init__)\n",
      "      480    0.016    0.000    0.016    0.000 ticker.py:517(set_useOffset)\n",
      "      480    0.000    0.000    0.000    0.000 ticker.py:541(set_useMathText)\n",
      "     2760    0.000    0.000    0.031    0.000 ticker.py:549(fix_minus)\n",
      "     2640    0.031    0.000    0.078    0.000 ticker.py:558(__call__)\n",
      "      120    0.000    0.000    0.000    0.000 ticker.py:617(get_offset)\n",
      "      240    0.000    0.000    0.094    0.000 ticker.py:649(set_locs)\n",
      "      240    0.000    0.000    0.016    0.000 ticker.py:662(_compute_offset)\n",
      "      240    0.016    0.000    0.016    0.000 ticker.py:704(_set_orderOfMagnitude)\n",
      "      240    0.000    0.000    0.062    0.000 ticker.py:734(_set_format)\n",
      "     2640    0.016    0.000    0.016    0.000 ticker.py:769(pprint_val)\n",
      "       30    0.000    0.000    0.000    0.000 tight_bbox.py:30(_l)\n",
      "       30    0.000    0.000    0.016    0.001 tight_bbox.py:35(restore_bbox)\n",
      "       30    0.000    0.000    0.062    0.002 tight_bbox.py:8(adjust_bbox)\n",
      "       30    0.031    0.001    0.031    0.001 touched_detection.py:7(touching_detection)\n",
      "       60    0.000    0.000    0.016    0.000 tracking.py:12(get_tracking_index)\n",
      "       30    0.016    0.001    0.094    0.003 tracking.py:66(hand_tracking)\n",
      "       84    0.016    0.000    0.016    0.000 tracking.py:7(get_euclidean_distance)\n",
      "     7680    0.000    0.000    0.000    0.000 traitlets.py:526(get)\n",
      "     7680    0.047    0.000    0.047    0.000 traitlets.py:545(__get__)\n",
      "      720    0.000    0.000    0.000    0.000 transforms.py:1025(__init__)\n",
      "1890/1770    0.031    0.000    0.125    0.000 transforms.py:1056(get_points)\n",
      "     6720    0.031    0.000    0.078    0.000 transforms.py:123(invalidate)\n",
      "     3900    0.016    0.000    0.156    0.000 transforms.py:1267(__add__)\n",
      "15120/6720    0.031    0.000    0.047    0.000 transforms.py:134(_invalidate_internal)\n",
      "       60    0.000    0.000    0.000    0.000 transforms.py:1401(__array__)\n",
      "     3840    0.047    0.000    0.562    0.000 transforms.py:1407(transform)\n",
      "       30    0.000    0.000    0.000    0.000 transforms.py:1492(get_matrix)\n",
      "     3630    0.031    0.000    0.578    0.000 transforms.py:1500(transform_point)\n",
      "      120    0.000    0.000    0.031    0.000 transforms.py:1513(transform_path)\n",
      "      120    0.000    0.000    0.016    0.000 transforms.py:1524(transform_path_affine)\n",
      "      120    0.016    0.000    0.016    0.000 transforms.py:1536(transform_path_non_affine)\n",
      "     8850    0.031    0.000    0.047    0.000 transforms.py:161(set_children)\n",
      "       60    0.000    0.000    0.000    0.000 transforms.py:1637(__init__)\n",
      "       60    0.000    0.000    0.000    0.000 transforms.py:1648(_init)\n",
      "      120    0.000    0.000    0.000    0.000 transforms.py:1668(_set)\n",
      "       60    0.000    0.000    0.000    0.000 transforms.py:1685(set)\n",
      "     3240    0.000    0.000    0.000    0.000 transforms.py:1705(_get_is_affine)\n",
      "    19890    0.047    0.000    0.078    0.000 transforms.py:1725(__init__)\n",
      "      180    0.000    0.000    0.016    0.000 transforms.py:1729(__array__)\n",
      "      180    0.000    0.000    0.031    0.000 transforms.py:1741(__eq__)\n",
      "5640/5580    0.016    0.000    0.141    0.000 transforms.py:1746(transform)\n",
      "      120    0.000    0.000    0.016    0.000 transforms.py:1763(transform_path_affine)\n",
      "     7710    0.000    0.000    0.000    0.000 transforms.py:1772(get_affine)\n",
      "      450    0.016    0.000    0.047    0.000 transforms.py:1798(frozen)\n",
      "      240    0.000    0.000    0.000    0.000 transforms.py:1802(_get_is_separable)\n",
      "5760/5700    0.078    0.000    0.125    0.000 transforms.py:1826(transform_affine)\n",
      "      390    0.000    0.000    0.016    0.000 transforms.py:1833(transform_point)\n",
      "     1440    0.016    0.000    0.016    0.000 transforms.py:1853(inverted)\n",
      "    11040    0.078    0.000    0.172    0.000 transforms.py:1870(__init__)\n",
      "    11910    0.031    0.000    0.031    0.000 transforms.py:1908(get_matrix)\n",
      "       90    0.000    0.000    0.016    0.000 transforms.py:1956(clear)\n",
      "     1230    0.016    0.000    0.031    0.000 transforms.py:1965(rotate)\n",
      "     1230    0.000    0.000    0.031    0.000 transforms.py:1981(rotate_deg)\n",
      "      630    0.000    0.000    0.047    0.000 transforms.py:2001(rotate_deg_around)\n",
      "     1440    0.000    0.000    0.047    0.000 transforms.py:2013(translate)\n",
      "     3570    0.062    0.000    0.203    0.000 transforms.py:2027(scale)\n",
      "      570    0.000    0.000    0.000    0.000 transforms.py:2099(get_matrix)\n",
      "       60    0.000    0.000    0.000    0.000 transforms.py:2144(__init__)\n",
      "     2160    0.016    0.000    0.031    0.000 transforms.py:2184(_get_is_affine)\n",
      "      120    0.000    0.000    0.000    0.000 transforms.py:2204(transform_non_affine)\n",
      "     2280    0.000    0.000    0.031    0.000 transforms.py:2236(get_affine)\n",
      "      180    0.016    0.000    0.016    0.000 transforms.py:2263(__init__)\n",
      "     1080    0.000    0.000    0.016    0.000 transforms.py:2313(get_matrix)\n",
      "      240    0.000    0.000    0.016    0.000 transforms.py:2330(blended_transform_factory)\n",
      "     4740    0.031    0.000    0.094    0.000 transforms.py:2354(__init__)\n",
      "   180/90    0.000    0.000    0.062    0.001 transforms.py:2377(frozen)\n",
      "4740/3540    0.000    0.000    0.031    0.000 transforms.py:2385(_invalidate_internal)\n",
      "       30    0.016    0.001    0.016    0.001 transforms.py:2400(__eq__)\n",
      "7800/4770    0.031    0.000    0.031    0.000 transforms.py:2417(_get_is_affine)\n",
      "     3840    0.031    0.000    0.391    0.000 transforms.py:2433(transform_affine)\n",
      "     3840    0.016    0.000    0.062    0.000 transforms.py:2437(transform_non_affine)\n",
      "       90    0.000    0.000    0.000    0.000 transforms.py:2447(transform_path_non_affine)\n",
      "5730/3990    0.078    0.000    0.250    0.000 transforms.py:2457(get_affine)\n",
      "  960/480    0.000    0.000    0.031    0.000 transforms.py:2465(inverted)\n",
      "      180    0.000    0.000    0.000    0.000 transforms.py:2481(__init__)\n",
      "      180    0.000    0.000    0.016    0.000 transforms.py:2525(get_matrix)\n",
      "     4080    0.047    0.000    0.156    0.000 transforms.py:2536(composite_transform_factory)\n",
      "      720    0.016    0.000    0.016    0.000 transforms.py:2619(__init__)\n",
      "2520/2430    0.000    0.000    0.016    0.000 transforms.py:2639(get_matrix)\n",
      "      330    0.000    0.000    0.000    0.000 transforms.py:268(frozen)\n",
      "       30    0.000    0.000    0.000    0.000 transforms.py:2682(__init__)\n",
      "      810    0.000    0.000    0.016    0.000 transforms.py:2698(get_matrix)\n",
      "       60    0.000    0.000    0.047    0.001 transforms.py:272(__array__)\n",
      "     2100    0.047    0.000    0.078    0.000 transforms.py:2720(__init__)\n",
      "     2670    0.016    0.000    0.016    0.000 transforms.py:2734(get_matrix)\n",
      "      330    0.000    0.000    0.000    0.000 transforms.py:282(x0)\n",
      "      420    0.016    0.000    0.016    0.000 transforms.py:2861(nonsingular)\n",
      "      390    0.000    0.000    0.000    0.000 transforms.py:291(y0)\n",
      "     2640    0.016    0.000    0.016    0.000 transforms.py:2915(interval_contains)\n",
      "       60    0.000    0.000    0.000    0.000 transforms.py:300(x1)\n",
      "       60    0.000    0.000    0.000    0.000 transforms.py:309(y1)\n",
      "      210    0.000    0.000    0.000    0.000 transforms.py:327(p1)\n",
      "     3690    0.016    0.000    0.141    0.000 transforms.py:336(xmin)\n",
      "     3690    0.016    0.000    0.094    0.000 transforms.py:343(ymin)\n",
      "     3690    0.062    0.000    0.203    0.000 transforms.py:350(xmax)\n",
      "     3750    0.031    0.000    0.234    0.000 transforms.py:357(ymax)\n",
      "      720    0.000    0.000    0.000    0.000 transforms.py:378(intervalx)\n",
      "      720    0.000    0.000    0.000    0.000 transforms.py:386(intervaly)\n",
      "     3300    0.000    0.000    0.047    0.000 transforms.py:395(width)\n",
      "     1350    0.016    0.000    0.016    0.000 transforms.py:404(height)\n",
      "      240    0.000    0.000    0.000    0.000 transforms.py:413(size)\n",
      "  840/810    0.016    0.000    0.031    0.000 transforms.py:422(bounds)\n",
      "       90    0.000    0.000    0.016    0.000 transforms.py:523(transformed)\n",
      "      120    0.000    0.000    0.031    0.000 transforms.py:550(anchored)\n",
      "      120    0.000    0.000    0.000    0.000 transforms.py:597(shrunk_to_aspect)\n",
      "       30    0.000    0.000    0.016    0.001 transforms.py:689(padded)\n",
      "     2310    0.031    0.000    0.062    0.000 transforms.py:697(translated)\n",
      "      390    0.031    0.000    0.766    0.002 transforms.py:726(union)\n",
      "      390    0.016    0.000    0.125    0.000 transforms.py:733(<listcomp>)\n",
      "      390    0.000    0.000    0.203    0.001 transforms.py:734(<listcomp>)\n",
      "      390    0.016    0.000    0.109    0.000 transforms.py:735(<listcomp>)\n",
      "      390    0.031    0.000    0.219    0.001 transforms.py:736(<listcomp>)\n",
      "      150    0.000    0.000    0.047    0.000 transforms.py:739(intersection)\n",
      "     6480    0.062    0.000    0.219    0.000 transforms.py:757(__init__)\n",
      "      480    0.000    0.000    0.047    0.000 transforms.py:793(unit)\n",
      "       30    0.000    0.000    0.016    0.001 transforms.py:801(null)\n",
      "     1350    0.000    0.000    0.078    0.000 transforms.py:809(from_bounds)\n",
      "     2100    0.000    0.000    0.109    0.000 transforms.py:819(from_extents)\n",
      "    32130    0.062    0.000    0.062    0.000 transforms.py:83(__init__)\n",
      "       30    0.000    0.000    0.000    0.000 transforms.py:855(update_from_path)\n",
      "       30    0.000    0.000    0.016    0.001 transforms.py:891(update_from_data_xy)\n",
      "       90    0.000    0.000    0.000    0.000 transforms.py:942(p1)\n",
      "       60    0.000    0.000    0.000    0.000 transforms.py:947(intervalx)\n",
      "       60    0.000    0.000    0.000    0.000 transforms.py:952(intervaly)\n",
      "       60    0.000    0.000    0.000    0.000 transforms.py:969(minposx)\n",
      "       60    0.000    0.000    0.000    0.000 transforms.py:973(minposy)\n",
      "    22260    0.016    0.000    0.016    0.000 transforms.py:977(get_points)\n",
      "      150    0.016    0.000    0.016    0.000 transforms.py:995(set)\n",
      "       60    0.000    0.000    0.000    0.000 tz.py:74(utcoffset)\n",
      "     1680    0.000    0.000    0.031    0.000 units.py:117(is_numlike)\n",
      "  240/120    0.000    0.000    0.031    0.000 units.py:140(get_converter)\n",
      "      300    0.000    0.000    0.000    0.000 weakref.py:44(__new__)\n",
      "       60    0.000    0.000    0.000    0.000 widgets.py:33(__init__)\n",
      "       60    0.000    0.000    0.203    0.003 zmqshell.py:77(_flush_streams)\n",
      "       60    0.000    0.000    0.000    0.000 zmqshell.py:87(_hooks)\n",
      "       60    0.000    0.000    0.312    0.005 zmqshell.py:94(publish)\n",
      "\n",
      "\n"
     ]
    }
   ],
   "source": [
    "def main ():\n",
    "    parser = argparse.ArgumentParser(usage=__doc__)\n",
    "    add_camera_opener_options(parser)\n",
    "    parser.add_argument(\"--seconds\", type=int, default=15, help=\"duration to capture data\")\n",
    "    PlayBack = True\n",
    "    options = parser.parse_args(args=['--rrf','456.rrf','--seconds', '5'])\n",
    "#     PlayBack = False\n",
    "#     options = parser.parse_args(args=['--seconds', '5'])\n",
    "    opener = CameraOpener(options)\n",
    "    cam = opener.open_camera()\n",
    "    \n",
    "    if PlayBack == False:\n",
    "        cam.setUseCase('MODE_5_45FPS_500')\n",
    "    print(\"FrameRate: \" ,cam.getFrameRate() ,\"CurrentUseCase: \" , cam.getCurrentUseCase())\n",
    "\n",
    "    print_camera_info (cam)\n",
    "    print(\"isConnected\", cam.isConnected())\n",
    "    print(\"getFrameRate\", cam.getFrameRate())\n",
    "    print(cam.getFilterLevel())\n",
    "\n",
    "    z_queue = queue.Queue()\n",
    "    gray_queue = queue.Queue()\n",
    "    points3D_queue = queue.Queue()\n",
    "    ConfidenceIndex_queue = queue.Queue()\n",
    "    Confidence_queue = queue.Queue()\n",
    "    l = MyListener(z_queue,gray_queue,points3D_queue,ConfidenceIndex_queue,Confidence_queue)\n",
    "\n",
    "    cam.registerDataListener(l)\n",
    "    cam.startCapture()\n",
    "\n",
    "    process_event(z_queue, gray_queue, points3D_queue, ConfidenceIndex_queue, Confidence_queue, painter=l, seconds=30)\n",
    "\n",
    "    cam.stopCapture()\n",
    "    cv2.destroyAllWindows()\n",
    "    \n",
    "    z_queue.queue.clear()\n",
    "    gray_queue.queue.clear()\n",
    "    points3D_queue.queue.clear()\n",
    "    ConfidenceIndex_queue.queue.clear()\n",
    "    Confidence_queue.queue.clear()\n",
    "    \n",
    "if (__name__ == \"__main__\"):\n",
    "    import profile\n",
    "    \n",
    "    profile.run('main()')"
   ]
  },
  {
   "cell_type": "code",
   "execution_count": 74,
   "metadata": {
    "scrolled": false
   },
   "outputs": [
    {
     "data": {
      "image/png": "[encoded data removed]",
      "text/plain": [
       "<Figure size 432x288 with 1 Axes>"
      ]
     },
     "metadata": {
      "needs_background": "light"
     },
     "output_type": "display_data"
    }
   ],
   "source": [
    "#show plane edge\n",
    "test = np.zeros((171,224), np.uint8)\n",
    "l = 25\n",
    "test[l:171-l,l:224-l] = 1\n",
    "plt.imshow(test),plt.axis('off')\n",
    "plt.show()"
   ]
  },
  {
   "cell_type": "code",
   "execution_count": 75,
   "metadata": {},
   "outputs": [
    {
     "name": "stdout",
     "output_type": "stream",
     "text": [
      "1\n",
      "[[ 0.  1.  2.  3.  4.]\n",
      " [ 5.  6.  7.  8.  9.]\n",
      " [10. 11. 12. 13. 14.]\n",
      " [15. 16. 17. 18. 19.]\n",
      " [20. 21. 22. 23. 24.]]\n",
      "[[ 6.  7.  8.]\n",
      " [11. 12. 13.]\n",
      " [16. 17. 18.]]\n",
      "9\n",
      "[[ 6.]\n",
      " [ 7.]\n",
      " [ 8.]\n",
      " [11.]\n",
      " [12.]\n",
      " [13.]\n",
      " [16.]\n",
      " [17.]\n",
      " [18.]]\n",
      "0 [6.]\n",
      "1 [7.]\n",
      "2 [8.]\n",
      "3 [11.]\n",
      "4 [12.]\n",
      "5 [13.]\n",
      "6 [16.]\n",
      "7 [17.]\n",
      "8 [18.]\n"
     ]
    }
   ],
   "source": [
    "u, v = (2, 2)\n",
    "kernal = 3\n",
    "x = np.zeros((5, 5))\n",
    "index = 0\n",
    "for h in range(0, 5):\n",
    "    for w in range(0, 5):\n",
    "        x[h, w] = index\n",
    "        index = index + 1\n",
    "bounding_sixe = math.floor(kernal/2)\n",
    "print(bounding_sixe)\n",
    "y = x[(u-bounding_sixe):(u+bounding_sixe+1), (v-bounding_sixe):(v+bounding_sixe+1)]\n",
    "print(x)\n",
    "print(y)\n",
    "\n",
    "print(y.size)\n",
    "\n",
    "y = np.reshape(y, (y.size,-1))\n",
    "print(y)\n",
    "for i, test in enumerate(y):\n",
    "    print(i, test)"
   ]
  }
 ],
 "metadata": {
  "kernelspec": {
   "display_name": "Python 3",
   "language": "python",
   "name": "python3"
  },
  "language_info": {
   "codemirror_mode": {
    "name": "ipython",
    "version": 3
   },
   "file_extension": ".py",
   "mimetype": "text/x-python",
   "name": "python",
   "nbconvert_exporter": "python",
   "pygments_lexer": "ipython3",
   "version": "3.6.8"
  }
 },
 "nbformat": 4,
 "nbformat_minor": 2
}
