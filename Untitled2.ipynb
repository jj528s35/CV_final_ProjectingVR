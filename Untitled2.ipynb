{
 "cells": [
  {
   "cell_type": "code",
   "execution_count": 14,
   "metadata": {},
   "outputs": [
    {
     "name": "stdout",
     "output_type": "stream",
     "text": [
      "Number of cameras connected:  1\n"
     ]
    },
    {
     "ename": "NameError",
     "evalue": "name 'MODE_5_45FPS_500' is not defined",
     "output_type": "error",
     "traceback": [
      "\u001b[1;31m---------------------------------------------------------------------------\u001b[0m",
      "\u001b[1;31mNameError\u001b[0m                                 Traceback (most recent call last)",
      "\u001b[1;32m<ipython-input-14-e1b12f378bc2>\u001b[0m in \u001b[0;36m<module>\u001b[1;34m\u001b[0m\n\u001b[0;32m     59\u001b[0m \u001b[1;33m\u001b[0m\u001b[0m\n\u001b[0;32m     60\u001b[0m \u001b[1;32mif\u001b[0m \u001b[1;33m(\u001b[0m\u001b[0m__name__\u001b[0m \u001b[1;33m==\u001b[0m \u001b[1;34m\"__main__\"\u001b[0m\u001b[1;33m)\u001b[0m\u001b[1;33m:\u001b[0m\u001b[1;33m\u001b[0m\u001b[1;33m\u001b[0m\u001b[0m\n\u001b[1;32m---> 61\u001b[1;33m     \u001b[0mmain\u001b[0m\u001b[1;33m(\u001b[0m\u001b[1;33m)\u001b[0m\u001b[1;33m\u001b[0m\u001b[1;33m\u001b[0m\u001b[0m\n\u001b[0m",
      "\u001b[1;32m<ipython-input-14-e1b12f378bc2>\u001b[0m in \u001b[0;36mmain\u001b[1;34m()\u001b[0m\n\u001b[0;32m     20\u001b[0m     \u001b[0mcam\u001b[0m \u001b[1;33m=\u001b[0m \u001b[0mc\u001b[0m\u001b[1;33m.\u001b[0m\u001b[0mcreateCamera\u001b[0m\u001b[1;33m(\u001b[0m\u001b[0mid\u001b[0m\u001b[1;33m)\u001b[0m\u001b[1;33m\u001b[0m\u001b[1;33m\u001b[0m\u001b[0m\n\u001b[0;32m     21\u001b[0m     \u001b[0mcam\u001b[0m\u001b[1;33m.\u001b[0m\u001b[0minitialize\u001b[0m\u001b[1;33m(\u001b[0m\u001b[1;33m)\u001b[0m\u001b[1;33m\u001b[0m\u001b[1;33m\u001b[0m\u001b[0m\n\u001b[1;32m---> 22\u001b[1;33m     \u001b[0mcam\u001b[0m\u001b[1;33m.\u001b[0m\u001b[0msetUseCase\u001b[0m\u001b[1;33m(\u001b[0m\u001b[0mMODE_5_45FPS_500\u001b[0m\u001b[1;33m)\u001b[0m\u001b[1;33m\u001b[0m\u001b[1;33m\u001b[0m\u001b[0m\n\u001b[0m\u001b[0;32m     23\u001b[0m \u001b[1;31m#     cam.setFrameRate(45)\u001b[0m\u001b[1;33m\u001b[0m\u001b[1;33m\u001b[0m\u001b[1;33m\u001b[0m\u001b[0m\n\u001b[0;32m     24\u001b[0m     \u001b[0mprint\u001b[0m\u001b[1;33m(\u001b[0m\u001b[0mcam\u001b[0m\u001b[1;33m.\u001b[0m\u001b[0mgetMaxFrameRate\u001b[0m\u001b[1;33m(\u001b[0m\u001b[1;33m)\u001b[0m\u001b[1;33m)\u001b[0m\u001b[1;33m\u001b[0m\u001b[1;33m\u001b[0m\u001b[0m\n",
      "\u001b[1;31mNameError\u001b[0m: name 'MODE_5_45FPS_500' is not defined"
     ]
    }
   ],
   "source": [
    "import argparse\n",
    "import roypy\n",
    "#from roypy_platform_utils import PlatformHelper\n",
    "\n",
    "def main ():\n",
    "    #platformhelper = PlatformHelper()\n",
    "    # Support a '--help' command-line option\n",
    "    parser = argparse.ArgumentParser(usage = __doc__)\n",
    "#     parser.parse_args()\n",
    "\n",
    "    # The rest of this function opens the first camera found\n",
    "    c = roypy.CameraManager()\n",
    "    l = c.getConnectedCameraList()\n",
    "\n",
    "    print(\"Number of cameras connected: \", l.size())\n",
    "    if l.size() == 0:\n",
    "        raise RuntimeError (\"No cameras connected\")\n",
    "    \n",
    "    id = l[0]\n",
    "    cam = c.createCamera(id)\n",
    "    cam.initialize()\n",
    "    cam.setUseCase(MODE_5_45FPS_500)\n",
    "#     cam.setFrameRate(45)\n",
    "    print(cam.getMaxFrameRate())\n",
    "    print_camera_info (cam, id)\n",
    "    \n",
    "def print_camera_info (cam, id=None):\n",
    "    \"\"\"Display some details of the camera.\n",
    "    \n",
    "    This method can also be used from other Python scripts, and it works with .rrf recordings in\n",
    "    addition to working with hardware.\n",
    "    \"\"\"\n",
    "    print(\"====================================\")\n",
    "    print(\"        Camera information\")\n",
    "    print(\"====================================\")\n",
    "    \n",
    "    if id:\n",
    "        print(\"Id:              \" + id)\n",
    "    print(\"Type:            \" + cam.getCameraName())\n",
    "    print(\"Width:           \" + str(cam.getMaxSensorWidth()))\n",
    "    print(\"Height:          \" + str(cam.getMaxSensorHeight()))\n",
    "    print(\"Operation modes: \" + str(cam.getUseCases().size()))\n",
    "\n",
    "    listIndent = \"    \"\n",
    "    noteIndent = \"        \"\n",
    "    \n",
    "    useCases = cam.getUseCases()\n",
    "    for u in range(useCases.size()):\n",
    "        print(listIndent + useCases[u])\n",
    "        numStreams = cam.getNumberOfStreams(useCases[u])\n",
    "        if (numStreams > 1):\n",
    "            print(noteIndent + \"this operation mode has \" + str(numStreams) + \" streams\")\n",
    "\n",
    "    camInfo = cam.getCameraInfo()\n",
    "    \n",
    "    print(\"CameraInfo items: \" + str(camInfo.size()))\n",
    "    for u in range(camInfo.size()):\n",
    "        print(listIndent + str(camInfo[u]))\n",
    "    \n",
    "if (__name__ == \"__main__\"):\n",
    "    main()"
   ]
  },
  {
   "cell_type": "code",
   "execution_count": null,
   "metadata": {},
   "outputs": [],
   "source": []
  },
  {
   "cell_type": "code",
   "execution_count": null,
   "metadata": {},
   "outputs": [],
   "source": []
  }
 ],
 "metadata": {
  "kernelspec": {
   "display_name": "Python 3",
   "language": "python",
   "name": "python3"
  },
  "language_info": {
   "codemirror_mode": {
    "name": "ipython",
    "version": 3
   },
   "file_extension": ".py",
   "mimetype": "text/x-python",
   "name": "python",
   "nbconvert_exporter": "python",
   "pygments_lexer": "ipython3",
   "version": "3.6.8"
  }
 },
 "nbformat": 4,
 "nbformat_minor": 2
}
